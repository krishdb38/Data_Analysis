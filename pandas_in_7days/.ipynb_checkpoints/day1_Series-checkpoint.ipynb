{
 "cells": [
  {
   "cell_type": "code",
   "execution_count": 4,
   "id": "cbd5c37b",
   "metadata": {},
   "outputs": [],
   "source": [
    "import pandas as pd \n",
    "import numpy as np"
   ]
  },
  {
   "cell_type": "markdown",
   "id": "b4196762",
   "metadata": {},
   "source": [
    "## A Series as a sequence of data"
   ]
  },
  {
   "cell_type": "code",
   "execution_count": 6,
   "id": "83c7f94d",
   "metadata": {},
   "outputs": [],
   "source": [
    "lst = [5,9,11,-1,4]\n",
    "nar = np.array([5,9,11,-1,4])"
   ]
  },
  {
   "cell_type": "code",
   "execution_count": 7,
   "id": "8b042a15",
   "metadata": {},
   "outputs": [
    {
     "name": "stdout",
     "output_type": "stream",
     "text": [
      "[5, 9, 11, -1, 4]\n",
      "[ 5  9 11 -1  4]\n"
     ]
    }
   ],
   "source": [
    "print(lst)\n",
    "print(nar)"
   ]
  },
  {
   "cell_type": "code",
   "execution_count": 8,
   "id": "4e6a936c",
   "metadata": {},
   "outputs": [],
   "source": [
    "ser1 = pd.Series(lst)"
   ]
  },
  {
   "cell_type": "code",
   "execution_count": 9,
   "id": "e8d6bfdd",
   "metadata": {},
   "outputs": [],
   "source": [
    "ser2 = pd.Series(nar)"
   ]
  },
  {
   "cell_type": "code",
   "execution_count": 17,
   "id": "a4a6b606",
   "metadata": {},
   "outputs": [
    {
     "data": {
      "text/plain": [
       "0     5\n",
       "1     9\n",
       "2    11\n",
       "3    -1\n",
       "4     4\n",
       "dtype: int64"
      ]
     },
     "execution_count": 17,
     "metadata": {},
     "output_type": "execute_result"
    }
   ],
   "source": [
    "ser1"
   ]
  },
  {
   "cell_type": "code",
   "execution_count": 20,
   "id": "dbbb16ff",
   "metadata": {},
   "outputs": [
    {
     "name": "stdout",
     "output_type": "stream",
     "text": [
      "[ 5  9 11 -1  4]\n"
     ]
    }
   ],
   "source": [
    "print(ser1.values)"
   ]
  },
  {
   "cell_type": "code",
   "execution_count": 21,
   "id": "5e0a66cf",
   "metadata": {},
   "outputs": [
    {
     "data": {
      "text/plain": [
       "a     5\n",
       "b     9\n",
       "c    11\n",
       "d    -1\n",
       "e     5\n",
       "dtype: int64"
      ]
     },
     "execution_count": 21,
     "metadata": {},
     "output_type": "execute_result"
    }
   ],
   "source": [
    "ser2 = pd.Series([5,9,11,-1,5], index=list(\"abcde\"))\n",
    "ser2"
   ]
  },
  {
   "cell_type": "code",
   "execution_count": 24,
   "id": "b787ccb2",
   "metadata": {},
   "outputs": [
    {
     "data": {
      "text/plain": [
       "0    0.0\n",
       "1    0.0\n",
       "2    0.0\n",
       "3    0.0\n",
       "4    0.0\n",
       "5    0.0\n",
       "6    0.0\n",
       "7    0.0\n",
       "8    0.0\n",
       "9    0.0\n",
       "dtype: float64"
      ]
     },
     "execution_count": 24,
     "metadata": {},
     "output_type": "execute_result"
    }
   ],
   "source": [
    "pd.Series(np.zeros(10))"
   ]
  },
  {
   "cell_type": "code",
   "execution_count": 25,
   "id": "75faec0c",
   "metadata": {},
   "outputs": [
    {
     "data": {
      "text/plain": [
       "a    12\n",
       "b    12\n",
       "c     7\n",
       "d     5\n",
       "dtype: int64"
      ]
     },
     "execution_count": 25,
     "metadata": {},
     "output_type": "execute_result"
    }
   ],
   "source": [
    "d = { \"a\":12, \"b\":12, \"c\":7, \"d\":5}\n",
    "ser10 = pd.Series(d)\n",
    "ser10"
   ]
  },
  {
   "cell_type": "code",
   "execution_count": 28,
   "id": "a7266ecb",
   "metadata": {},
   "outputs": [],
   "source": [
    "t = [(\"a\",5),(\"b\",2),(\"c\",3)]\n",
    "idx, values = zip(*t)"
   ]
  },
  {
   "cell_type": "code",
   "execution_count": 30,
   "id": "ae6715e8",
   "metadata": {},
   "outputs": [
    {
     "data": {
      "text/plain": [
       "(5, 2, 3)"
      ]
     },
     "execution_count": 30,
     "metadata": {},
     "output_type": "execute_result"
    }
   ],
   "source": [
    "values"
   ]
  }
 ],
 "metadata": {
  "kernelspec": {
   "display_name": "Python 3 (ipykernel)",
   "language": "python",
   "name": "python3"
  },
  "language_info": {
   "codemirror_mode": {
    "name": "ipython",
    "version": 3
   },
   "file_extension": ".py",
   "mimetype": "text/x-python",
   "name": "python",
   "nbconvert_exporter": "python",
   "pygments_lexer": "ipython3",
   "version": "3.9.12"
  }
 },
 "nbformat": 4,
 "nbformat_minor": 5
}
