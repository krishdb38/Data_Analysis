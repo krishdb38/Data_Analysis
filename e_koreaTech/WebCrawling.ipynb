{
 "cells": [
  {
   "cell_type": "code",
   "execution_count": 7,
   "metadata": {},
   "outputs": [
    {
     "name": "stdout",
     "output_type": "stream",
     "text": [
      "<class 'http.client.HTTPResponse'>\n",
      "200\n",
      "11\n",
      "OK\n"
     ]
    }
   ],
   "source": [
    "# Source Analysis\n",
    "import urllib.request\n",
    "res = urllib.request.urlopen(\"https://www.naver.com\")\n",
    "print(type(res))\n",
    "print(res.status)\n",
    "print(res.version)\n",
    "print(res.msg)"
   ]
  },
  {
   "cell_type": "code",
   "execution_count": 9,
   "metadata": {},
   "outputs": [
    {
     "name": "stdout",
     "output_type": "stream",
     "text": [
      "Header Information\n",
      "('Server', 'NWS')\n",
      "('Date', 'Sun, 23 Aug 2020 03:25:05 GMT')\n",
      "('Content-Type', 'text/html; charset=UTF-8')\n",
      "('Transfer-Encoding', 'chunked')\n",
      "('Connection', 'close')\n",
      "('Set-Cookie', 'PM_CK_loc=76cadc6611caf53bbe17d0c6f1616b6b21396811d3dba20ef6bf9e57d9c9efc9; Expires=Mon, 24 Aug 2020 03:25:05 GMT; Path=/; HttpOnly')\n",
      "('Cache-Control', 'no-cache, no-store, must-revalidate')\n",
      "('Pragma', 'no-cache')\n",
      "('P3P', 'CP=\"CAO DSP CURa ADMa TAIa PSAa OUR LAW STP PHY ONL UNI PUR FIN COM NAV INT DEM STA PRE\"')\n",
      "('X-Frame-Options', 'DENY')\n",
      "('X-XSS-Protection', '1; mode=block')\n",
      "('Strict-Transport-Security', 'max-age=63072000; includeSubdomains')\n",
      "('Referrer-Policy', 'unsafe-url')\n"
     ]
    }
   ],
   "source": [
    "res_header = res.getheaders()\n",
    "print(\"Header Information\")\n",
    "for s in res_header:\n",
    "    print(s)"
   ]
  },
  {
   "cell_type": "code",
   "execution_count": 10,
   "metadata": {},
   "outputs": [],
   "source": [
    "# Example 2"
   ]
  },
  {
   "cell_type": "code",
   "execution_count": 23,
   "metadata": {},
   "outputs": [],
   "source": [
    "import urllib.request\n",
    "res = urllib.request.urlopen(\\\n",
    "                            \"http://unico2013.dothome.co.kr/crawling/tagstyle.html\")"
   ]
  },
  {
   "cell_type": "code",
   "execution_count": 21,
   "metadata": {},
   "outputs": [
    {
     "name": "stdout",
     "output_type": "stream",
     "text": [
      "<http.client.HTTPResponse object at 0x000002827F350A88>\n",
      "('Date', 'Sun, 23 Aug 2020 03:33:38 GMT')\n",
      "('Server', 'Apache/2.2.15 (CentOS)')\n",
      "('Content-Length', '461')\n",
      "('Connection', 'close')\n",
      "('Content-Type', 'text/html')\n",
      "body details\n",
      "b'<!DOCTYPE html>\\r\\n<html>\\r\\n<head>\\r\\n<meta charset=\"UTF-8\">\\r\\n<title>Insert title here</title>\\r\\n</head>\\r\\n<body>\\r\\n<h1>\\xeb\\xb8\\x94\\xeb\\x9f\\xad\\xec\\x8a\\xa4\\xed\\x83\\x80\\xec\\x9d\\xbc \\xed\\x83\\x9c\\xea\\xb7\\xb8</h1>\\r\\n<div style=\"background-color:yellow\">\\xed\\x85\\x8c\\xec\\x8a\\xa4\\xed\\x8a\\xb8\\xec\\x9e\\x85\\xeb\\x8b\\x88\\xeb\\x8b\\xa41</div>\\r\\n<div>\\xed\\x85\\x8c\\xec\\x8a\\xa4\\xed\\x8a\\xb8\\xec\\x9e\\x85\\xeb\\x8b\\x88\\xeb\\x8b\\xa42</div>\\r\\n<div>\\xed\\x85\\x8c\\xec\\x8a\\xa4\\xed\\x8a\\xb8\\xec\\x9e\\x85\\xeb\\x8b\\x88\\xeb\\x8b\\xa43</div>\\r\\n<hr>\\r\\n<h1>\\xec\\x9d\\xb8\\xeb\\x9d\\xbc\\xec\\x9d\\xb8\\xec\\x8a\\xa4\\xed\\x83\\x80\\xec\\x9d\\xbc \\xed\\x83\\x9c\\xea\\xb7\\xb8</h1>\\r\\n<span style=\"background-color:yellow\">\\xed\\x85\\x8c\\xec\\x8a\\xa4\\xed\\x8a\\xb8\\xec\\x9e\\x85\\xeb\\x8b\\x88\\xeb\\x8b\\xa41</span>\\r\\n<span>\\xed\\x85\\x8c\\xec\\x8a\\xa4\\xed\\x8a\\xb8\\xec\\x9e\\x85\\xeb\\x8b\\x88\\xeb\\x8b\\xa42</span>\\r\\n<span>\\xed\\x85\\x8c\\xec\\x8a\\xa4\\xed\\x8a\\xb8\\xec\\x9e\\x85\\xeb\\x8b\\x88\\xeb\\x8b\\xa43</span>\\r\\n</body>\\r\\n</html>'\n"
     ]
    }
   ],
   "source": [
    "print(res)\n",
    "res_header = res.getheaders()\n",
    "for s in res_header:\n",
    "    print(s)\n",
    "    \n",
    "print(\"body details\")\n",
    "print(res.read())"
   ]
  },
  {
   "cell_type": "code",
   "execution_count": 24,
   "metadata": {},
   "outputs": [
    {
     "name": "stdout",
     "output_type": "stream",
     "text": [
      "<!DOCTYPE html>\r\n",
      "<html>\r\n",
      "<head>\r\n",
      "<meta charset=\"UTF-8\">\r\n",
      "<title>Insert title here</title>\r\n",
      "</head>\r\n",
      "<body>\r\n",
      "<h1>블럭스타일 태그</h1>\r\n",
      "<div style=\"background-color:yellow\">테스트입니다1</div>\r\n",
      "<div>테스트입니다2</div>\r\n",
      "<div>테스트입니다3</div>\r\n",
      "<hr>\r\n",
      "<h1>인라인스타일 태그</h1>\r\n",
      "<span style=\"background-color:yellow\">테스트입니다1</span>\r\n",
      "<span>테스트입니다2</span>\r\n",
      "<span>테스트입니다3</span>\r\n",
      "</body>\r\n",
      "</html>\n"
     ]
    }
   ],
   "source": [
    "print(res.read().decode(\"utf-8\"))"
   ]
  },
  {
   "cell_type": "markdown",
   "metadata": {},
   "source": [
    "# Program 3"
   ]
  },
  {
   "cell_type": "code",
   "execution_count": 25,
   "metadata": {},
   "outputs": [
    {
     "name": "stdout",
     "output_type": "stream",
     "text": [
      "<class 'http.client.HTTPMessage'>\n"
     ]
    }
   ],
   "source": [
    "import urllib.request\n",
    "url = \"https://www.python.org/\"\n",
    "f = urllib.request.urlopen(url)\n",
    "print(type(f.info()))"
   ]
  },
  {
   "cell_type": "code",
   "execution_count": 27,
   "metadata": {},
   "outputs": [
    {
     "name": "stdout",
     "output_type": "stream",
     "text": [
      "https://www.python.org/ test utf-8\n"
     ]
    }
   ],
   "source": [
    "encoding = f.info().get_content_charset()\n",
    "print(url, \"test\", encoding)"
   ]
  },
  {
   "cell_type": "code",
   "execution_count": 58,
   "metadata": {},
   "outputs": [
    {
     "name": "stdout",
     "output_type": "stream",
     "text": [
      "ss=\"tier-2\n"
     ]
    }
   ],
   "source": [
    "text = f.read(10).decode(encoding) # Change Number\n",
    "print(text)"
   ]
  },
  {
   "cell_type": "markdown",
   "metadata": {},
   "source": [
    "## examp3_8.py"
   ]
  },
  {
   "cell_type": "code",
   "execution_count": 60,
   "metadata": {},
   "outputs": [
    {
     "name": "stdout",
     "output_type": "stream",
     "text": [
      "<class 'requests.models.Response'>\n",
      "<!DOCTYPE html>\r\n",
      "<html>\r\n",
      "<head>\r\n",
      "<meta charset=\"UTF-8\">\r\n",
      "<title>테스트</title>\r\n",
      "</head>\r\n",
      "<body>\r\n",
      "<h1>웹 크롤링을 테스트 합니다.</h1>\r\n",
      "</body>\r\n",
      "</html>\n",
      "____________________________________\n"
     ]
    }
   ],
   "source": [
    "import requests\n",
    "url = \"http://unico2013.dothome.co.kr/crawling/exam.html\"\n",
    "r = requests.request(\"get\",url)\n",
    "r.encoding = \"utf-8\"\n",
    "print(type(r))\n",
    "if r.text :\n",
    "    print(r.text)\n",
    "else:\n",
    "    print(\"No Response Message\")\n",
    "    \n",
    "print(\"____________________________________\")\n",
    "r = requests.request(\"head\",url)\n",
    "r.encoding = \"utf-8\""
   ]
  },
  {
   "cell_type": "code",
   "execution_count": null,
   "metadata": {},
   "outputs": [],
   "source": []
  },
  {
   "cell_type": "markdown",
   "metadata": {},
   "source": [
    "## Pandas"
   ]
  },
  {
   "cell_type": "markdown",
   "metadata": {},
   "source": [
    "# Creating Table"
   ]
  },
  {
   "cell_type": "code",
   "execution_count": 61,
   "metadata": {},
   "outputs": [],
   "source": [
    "import pandas as pd\n",
    "data = {\n",
    "    \"X1\":[1,2,3],\n",
    "    \"X2\" : [3,6,9],\n",
    "    \"X3\" : [10,11,12],\n",
    "    \"X5\" : [20,30,40]\n",
    "}\n",
    "df = pd.DataFrame(data)"
   ]
  },
  {
   "cell_type": "code",
   "execution_count": 62,
   "metadata": {},
   "outputs": [
    {
     "data": {
      "text/html": [
       "<div>\n",
       "<style scoped>\n",
       "    .dataframe tbody tr th:only-of-type {\n",
       "        vertical-align: middle;\n",
       "    }\n",
       "\n",
       "    .dataframe tbody tr th {\n",
       "        vertical-align: top;\n",
       "    }\n",
       "\n",
       "    .dataframe thead th {\n",
       "        text-align: right;\n",
       "    }\n",
       "</style>\n",
       "<table border=\"1\" class=\"dataframe\">\n",
       "  <thead>\n",
       "    <tr style=\"text-align: right;\">\n",
       "      <th></th>\n",
       "      <th>X1</th>\n",
       "      <th>X2</th>\n",
       "      <th>X3</th>\n",
       "      <th>X5</th>\n",
       "    </tr>\n",
       "  </thead>\n",
       "  <tbody>\n",
       "    <tr>\n",
       "      <th>0</th>\n",
       "      <td>1</td>\n",
       "      <td>3</td>\n",
       "      <td>10</td>\n",
       "      <td>20</td>\n",
       "    </tr>\n",
       "    <tr>\n",
       "      <th>1</th>\n",
       "      <td>2</td>\n",
       "      <td>6</td>\n",
       "      <td>11</td>\n",
       "      <td>30</td>\n",
       "    </tr>\n",
       "    <tr>\n",
       "      <th>2</th>\n",
       "      <td>3</td>\n",
       "      <td>9</td>\n",
       "      <td>12</td>\n",
       "      <td>40</td>\n",
       "    </tr>\n",
       "  </tbody>\n",
       "</table>\n",
       "</div>"
      ],
      "text/plain": [
       "   X1  X2  X3  X5\n",
       "0   1   3  10  20\n",
       "1   2   6  11  30\n",
       "2   3   9  12  40"
      ]
     },
     "execution_count": 62,
     "metadata": {},
     "output_type": "execute_result"
    }
   ],
   "source": [
    "df"
   ]
  },
  {
   "cell_type": "code",
   "execution_count": 67,
   "metadata": {},
   "outputs": [
    {
     "data": {
      "text/html": [
       "<div>\n",
       "<style scoped>\n",
       "    .dataframe tbody tr th:only-of-type {\n",
       "        vertical-align: middle;\n",
       "    }\n",
       "\n",
       "    .dataframe tbody tr th {\n",
       "        vertical-align: top;\n",
       "    }\n",
       "\n",
       "    .dataframe thead th {\n",
       "        text-align: right;\n",
       "    }\n",
       "</style>\n",
       "<table border=\"1\" class=\"dataframe\">\n",
       "  <thead>\n",
       "    <tr style=\"text-align: right;\">\n",
       "      <th></th>\n",
       "      <th>X1</th>\n",
       "      <th>X2</th>\n",
       "      <th>X3</th>\n",
       "      <th>X5</th>\n",
       "    </tr>\n",
       "  </thead>\n",
       "  <tbody>\n",
       "    <tr>\n",
       "      <th>0</th>\n",
       "      <td>1.0</td>\n",
       "      <td>3.0</td>\n",
       "      <td>10.0</td>\n",
       "      <td>20.0</td>\n",
       "    </tr>\n",
       "    <tr>\n",
       "      <th>1</th>\n",
       "      <td>2.0</td>\n",
       "      <td>6.0</td>\n",
       "      <td>11.0</td>\n",
       "      <td>30.0</td>\n",
       "    </tr>\n",
       "    <tr>\n",
       "      <th>2</th>\n",
       "      <td>3.0</td>\n",
       "      <td>9.0</td>\n",
       "      <td>12.0</td>\n",
       "      <td>40.0</td>\n",
       "    </tr>\n",
       "    <tr>\n",
       "      <th>3</th>\n",
       "      <td>10.0</td>\n",
       "      <td>NaN</td>\n",
       "      <td>NaN</td>\n",
       "      <td>NaN</td>\n",
       "    </tr>\n",
       "    <tr>\n",
       "      <th>4</th>\n",
       "      <td>10.0</td>\n",
       "      <td>NaN</td>\n",
       "      <td>NaN</td>\n",
       "      <td>NaN</td>\n",
       "    </tr>\n",
       "    <tr>\n",
       "      <th>5</th>\n",
       "      <td>10.0</td>\n",
       "      <td>NaN</td>\n",
       "      <td>NaN</td>\n",
       "      <td>NaN</td>\n",
       "    </tr>\n",
       "    <tr>\n",
       "      <th>6</th>\n",
       "      <td>10.0</td>\n",
       "      <td>NaN</td>\n",
       "      <td>NaN</td>\n",
       "      <td>NaN</td>\n",
       "    </tr>\n",
       "  </tbody>\n",
       "</table>\n",
       "</div>"
      ],
      "text/plain": [
       "     X1   X2    X3    X5\n",
       "0   1.0  3.0  10.0  20.0\n",
       "1   2.0  6.0  11.0  30.0\n",
       "2   3.0  9.0  12.0  40.0\n",
       "3  10.0  NaN   NaN   NaN\n",
       "4  10.0  NaN   NaN   NaN\n",
       "5  10.0  NaN   NaN   NaN\n",
       "6  10.0  NaN   NaN   NaN"
      ]
     },
     "execution_count": 67,
     "metadata": {},
     "output_type": "execute_result"
    }
   ],
   "source": [
    "df = df.append({\"X1\":10}, ignore_index = True)\n",
    "df"
   ]
  }
 ],
 "metadata": {
  "kernelspec": {
   "display_name": "Python 3",
   "language": "python",
   "name": "python3"
  },
  "language_info": {
   "codemirror_mode": {
    "name": "ipython",
    "version": 3
   },
   "file_extension": ".py",
   "mimetype": "text/x-python",
   "name": "python",
   "nbconvert_exporter": "python",
   "pygments_lexer": "ipython3",
   "version": "3.7.7"
  },
  "latex_envs": {
   "LaTeX_envs_menu_present": true,
   "autoclose": false,
   "autocomplete": true,
   "bibliofile": "biblio.bib",
   "cite_by": "apalike",
   "current_citInitial": 1,
   "eqLabelWithNumbers": true,
   "eqNumInitial": 1,
   "hotkeys": {
    "equation": "Ctrl-E",
    "itemize": "Ctrl-I"
   },
   "labels_anchors": false,
   "latex_user_defs": false,
   "report_style_numbering": false,
   "user_envs_cfg": false
  },
  "nbTranslate": {
   "displayLangs": [
    "*"
   ],
   "hotkey": "alt-t",
   "langInMainMenu": true,
   "sourceLang": "en",
   "targetLang": "fr",
   "useGoogleTranslate": true
  }
 },
 "nbformat": 4,
 "nbformat_minor": 4
}
