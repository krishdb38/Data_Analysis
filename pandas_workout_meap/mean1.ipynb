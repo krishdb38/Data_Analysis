{
 "cells": [
  {
   "cell_type": "code",
   "execution_count": 1,
   "id": "93e75d8a",
   "metadata": {
    "ExecuteTime": {
     "end_time": "2022-11-13T00:40:10.428590Z",
     "start_time": "2022-11-13T00:40:10.263124Z"
    }
   },
   "outputs": [],
   "source": [
    "import pandas as pd\n",
    "import numpy as np"
   ]
  },
  {
   "cell_type": "code",
   "execution_count": 5,
   "id": "58eb88f7",
   "metadata": {
    "ExecuteTime": {
     "end_time": "2022-11-13T00:45:19.772133Z",
     "start_time": "2022-11-13T00:45:19.767812Z"
    }
   },
   "outputs": [
    {
     "data": {
      "text/plain": [
       "jan      76\n",
       "feb      89\n",
       "march    98\n",
       "april    84\n",
       "may      80\n",
       "june     77\n",
       "july     98\n",
       "aug      90\n",
       "sep      76\n",
       "oct      95\n",
       "dtype: int64"
      ]
     },
     "execution_count": 5,
     "metadata": {},
     "output_type": "execute_result"
    }
   ],
   "source": [
    "np.random.seed(42)\n",
    "\n",
    "months = \"jan feb march april may june july aug sep oct\".split()\n",
    "\n",
    "s = pd.Series(np.random.randint(70,100,10), index = months)\n",
    "s"
   ]
  },
  {
   "cell_type": "code",
   "execution_count": 8,
   "id": "d2142fd6",
   "metadata": {
    "ExecuteTime": {
     "end_time": "2022-11-13T00:45:38.265898Z",
     "start_time": "2022-11-13T00:45:38.263136Z"
    }
   },
   "outputs": [
    {
     "data": {
      "text/plain": [
       "86.3"
      ]
     },
     "execution_count": 8,
     "metadata": {},
     "output_type": "execute_result"
    }
   ],
   "source": [
    "s.mean()"
   ]
  },
  {
   "cell_type": "code",
   "execution_count": 13,
   "id": "447a255f",
   "metadata": {
    "ExecuteTime": {
     "end_time": "2022-11-13T00:46:04.077997Z",
     "start_time": "2022-11-13T00:46:04.071512Z"
    }
   },
   "outputs": [
    {
     "name": "stdout",
     "output_type": "stream",
     "text": [
      "<class 'pandas.core.series.Series'>\n",
      "Index: 10 entries, jan to oct\n",
      "Series name: None\n",
      "Non-Null Count  Dtype\n",
      "--------------  -----\n",
      "10 non-null     int64\n",
      "dtypes: int64(1)\n",
      "memory usage: 460.0+ bytes\n"
     ]
    }
   ],
   "source": [
    "s.info()"
   ]
  },
  {
   "cell_type": "code",
   "execution_count": 14,
   "id": "cad5aa74",
   "metadata": {
    "ExecuteTime": {
     "end_time": "2022-11-13T00:55:11.185395Z",
     "start_time": "2022-11-13T00:55:11.182857Z"
    }
   },
   "outputs": [],
   "source": [
    "s1 = pd.Series([10,20,30,40])\n",
    "s2 = pd.Series([100, 200, 300,400])"
   ]
  },
  {
   "cell_type": "code",
   "execution_count": 15,
   "id": "408d303d",
   "metadata": {
    "ExecuteTime": {
     "end_time": "2022-11-13T00:55:20.314136Z",
     "start_time": "2022-11-13T00:55:20.311465Z"
    }
   },
   "outputs": [
    {
     "data": {
      "text/plain": [
       "(25.0, 250.0)"
      ]
     },
     "execution_count": 15,
     "metadata": {},
     "output_type": "execute_result"
    }
   ],
   "source": [
    "s1.mean() , s2.mean()"
   ]
  },
  {
   "cell_type": "code",
   "execution_count": 18,
   "id": "628f526a",
   "metadata": {
    "ExecuteTime": {
     "end_time": "2022-11-13T00:55:49.191727Z",
     "start_time": "2022-11-13T00:55:49.185821Z"
    }
   },
   "outputs": [
    {
     "data": {
      "text/plain": [
       "1.0"
      ]
     },
     "execution_count": 18,
     "metadata": {},
     "output_type": "execute_result"
    }
   ],
   "source": [
    "s1.corr(s2)"
   ]
  },
  {
   "cell_type": "code",
   "execution_count": 19,
   "id": "b677cf57",
   "metadata": {
    "ExecuteTime": {
     "end_time": "2022-11-13T02:25:09.510721Z",
     "start_time": "2022-11-13T02:25:09.505614Z"
    }
   },
   "outputs": [
    {
     "data": {
      "text/plain": [
       "count    10.00000\n",
       "mean     86.30000\n",
       "std       8.90755\n",
       "min      76.00000\n",
       "25%      77.75000\n",
       "50%      86.50000\n",
       "75%      93.75000\n",
       "max      98.00000\n",
       "dtype: float64"
      ]
     },
     "execution_count": 19,
     "metadata": {},
     "output_type": "execute_result"
    }
   ],
   "source": [
    "s.describe()"
   ]
  },
  {
   "cell_type": "code",
   "execution_count": 22,
   "id": "3f16312b",
   "metadata": {
    "ExecuteTime": {
     "end_time": "2022-11-13T02:26:40.572425Z",
     "start_time": "2022-11-13T02:26:40.569254Z"
    }
   },
   "outputs": [
    {
     "data": {
      "text/plain": [
       "jan    76\n",
       "sep    76\n",
       "dtype: int64"
      ]
     },
     "execution_count": 22,
     "metadata": {},
     "output_type": "execute_result"
    }
   ],
   "source": [
    "s[s == s.min()]"
   ]
  },
  {
   "cell_type": "code",
   "execution_count": 25,
   "id": "acec989d",
   "metadata": {
    "ExecuteTime": {
     "end_time": "2022-11-13T02:29:19.013257Z",
     "start_time": "2022-11-13T02:29:19.009216Z"
    }
   },
   "outputs": [
    {
     "data": {
      "text/plain": [
       "sun     29\n",
       "mon     22\n",
       "tues    25\n",
       "wed     31\n",
       "thu     29\n",
       "fri     15\n",
       "sat     25\n",
       "sun     19\n",
       "mon     19\n",
       "tues    22\n",
       "wed     21\n",
       "thu     27\n",
       "fri     24\n",
       "sat     21\n",
       "sun     22\n",
       "mon     22\n",
       "tues    27\n",
       "wed     19\n",
       "thu     22\n",
       "fri     16\n",
       "sat      7\n",
       "sun     23\n",
       "mon     24\n",
       "tues    16\n",
       "wed     31\n",
       "thu     13\n",
       "fri     20\n",
       "sat     19\n",
       "dtype: int8"
      ]
     },
     "execution_count": 25,
     "metadata": {},
     "output_type": "execute_result"
    }
   ],
   "source": [
    "days = \"sun mon tues wed thu fri sat\".split()\n",
    "np.random.seed(0)\n",
    "\n",
    "s = pd.Series(np.random.normal(20,5,28),\n",
    "             index = days *4).round().astype(np.int8)\n",
    "s"
   ]
  },
  {
   "cell_type": "code",
   "execution_count": 26,
   "id": "d83ecdaa",
   "metadata": {
    "ExecuteTime": {
     "end_time": "2022-11-13T02:29:19.205560Z",
     "start_time": "2022-11-13T02:29:19.198409Z"
    }
   },
   "outputs": [
    {
     "data": {
      "text/plain": [
       "sun    29\n",
       "sun    19\n",
       "sun    22\n",
       "sun    23\n",
       "dtype: int8"
      ]
     },
     "execution_count": 26,
     "metadata": {},
     "output_type": "execute_result"
    }
   ],
   "source": [
    "s[\"sun\"]"
   ]
  },
  {
   "cell_type": "code",
   "execution_count": null,
   "id": "7fcde5bf",
   "metadata": {},
   "outputs": [],
   "source": []
  }
 ],
 "metadata": {
  "kernelspec": {
   "display_name": "Python 3 (ipykernel)",
   "language": "python",
   "name": "python3"
  },
  "language_info": {
   "codemirror_mode": {
    "name": "ipython",
    "version": 3
   },
   "file_extension": ".py",
   "mimetype": "text/x-python",
   "name": "python",
   "nbconvert_exporter": "python",
   "pygments_lexer": "ipython3",
   "version": "3.9.12"
  },
  "varInspector": {
   "cols": {
    "lenName": 16,
    "lenType": 16,
    "lenVar": 40
   },
   "kernels_config": {
    "python": {
     "delete_cmd_postfix": "",
     "delete_cmd_prefix": "del ",
     "library": "var_list.py",
     "varRefreshCmd": "print(var_dic_list())"
    },
    "r": {
     "delete_cmd_postfix": ") ",
     "delete_cmd_prefix": "rm(",
     "library": "var_list.r",
     "varRefreshCmd": "cat(var_dic_list()) "
    }
   },
   "types_to_exclude": [
    "module",
    "function",
    "builtin_function_or_method",
    "instance",
    "_Feature"
   ],
   "window_display": false
  }
 },
 "nbformat": 4,
 "nbformat_minor": 5
}
