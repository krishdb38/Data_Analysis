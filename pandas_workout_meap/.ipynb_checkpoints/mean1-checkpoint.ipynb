{
 "cells": [
  {
   "cell_type": "code",
   "execution_count": 1,
   "id": "79bf187d",
   "metadata": {
    "ExecuteTime": {
     "end_time": "2022-11-13T00:40:10.428590Z",
     "start_time": "2022-11-13T00:40:10.263124Z"
    }
   },
   "outputs": [],
   "source": [
    "import pandas as pd\n",
    "import numpy as np"
   ]
  },
  {
   "cell_type": "code",
   "execution_count": 5,
   "id": "0eeff3c0",
   "metadata": {
    "ExecuteTime": {
     "end_time": "2022-11-13T00:45:19.772133Z",
     "start_time": "2022-11-13T00:45:19.767812Z"
    }
   },
   "outputs": [
    {
     "data": {
      "text/plain": [
       "jan      76\n",
       "feb      89\n",
       "march    98\n",
       "april    84\n",
       "may      80\n",
       "june     77\n",
       "july     98\n",
       "aug      90\n",
       "sep      76\n",
       "oct      95\n",
       "dtype: int64"
      ]
     },
     "execution_count": 5,
     "metadata": {},
     "output_type": "execute_result"
    }
   ],
   "source": [
    "np.random.seed(42)\n",
    "\n",
    "months = \"jan feb march april may june july aug sep oct\".split()\n",
    "\n",
    "s = pd.Series(np.random.randint(70,100,10), index = months)\n",
    "s"
   ]
  },
  {
   "cell_type": "code",
   "execution_count": 8,
   "id": "ceb53c7d",
   "metadata": {
    "ExecuteTime": {
     "end_time": "2022-11-13T00:45:38.265898Z",
     "start_time": "2022-11-13T00:45:38.263136Z"
    }
   },
   "outputs": [
    {
     "data": {
      "text/plain": [
       "86.3"
      ]
     },
     "execution_count": 8,
     "metadata": {},
     "output_type": "execute_result"
    }
   ],
   "source": [
    "s.mean()"
   ]
  },
  {
   "cell_type": "code",
   "execution_count": 13,
   "id": "a8ee631b",
   "metadata": {
    "ExecuteTime": {
     "end_time": "2022-11-13T00:46:04.077997Z",
     "start_time": "2022-11-13T00:46:04.071512Z"
    }
   },
   "outputs": [
    {
     "name": "stdout",
     "output_type": "stream",
     "text": [
      "<class 'pandas.core.series.Series'>\n",
      "Index: 10 entries, jan to oct\n",
      "Series name: None\n",
      "Non-Null Count  Dtype\n",
      "--------------  -----\n",
      "10 non-null     int64\n",
      "dtypes: int64(1)\n",
      "memory usage: 460.0+ bytes\n"
     ]
    }
   ],
   "source": [
    "s.info()"
   ]
  },
  {
   "cell_type": "code",
   "execution_count": 14,
   "id": "305ac41f",
   "metadata": {
    "ExecuteTime": {
     "end_time": "2022-11-13T00:55:11.185395Z",
     "start_time": "2022-11-13T00:55:11.182857Z"
    }
   },
   "outputs": [],
   "source": [
    "s1 = pd.Series([10,20,30,40])\n",
    "s2 = pd.Series([100, 200, 300,400])"
   ]
  },
  {
   "cell_type": "code",
   "execution_count": null,
   "id": "236538dc",
   "metadata": {},
   "outputs": [],
   "source": []
  },
  {
   "cell_type": "code",
   "execution_count": null,
   "id": "edefe01c",
   "metadata": {},
   "outputs": [],
   "source": []
  },
  {
   "cell_type": "code",
   "execution_count": null,
   "id": "9e95c94d",
   "metadata": {},
   "outputs": [],
   "source": []
  },
  {
   "cell_type": "code",
   "execution_count": null,
   "id": "e6d46d28",
   "metadata": {},
   "outputs": [],
   "source": []
  },
  {
   "cell_type": "code",
   "execution_count": null,
   "id": "394c8e1d",
   "metadata": {},
   "outputs": [],
   "source": []
  }
 ],
 "metadata": {
  "kernelspec": {
   "display_name": "Python 3 (ipykernel)",
   "language": "python",
   "name": "python3"
  },
  "language_info": {
   "codemirror_mode": {
    "name": "ipython",
    "version": 3
   },
   "file_extension": ".py",
   "mimetype": "text/x-python",
   "name": "python",
   "nbconvert_exporter": "python",
   "pygments_lexer": "ipython3",
   "version": "3.9.12"
  },
  "varInspector": {
   "cols": {
    "lenName": 16,
    "lenType": 16,
    "lenVar": 40
   },
   "kernels_config": {
    "python": {
     "delete_cmd_postfix": "",
     "delete_cmd_prefix": "del ",
     "library": "var_list.py",
     "varRefreshCmd": "print(var_dic_list())"
    },
    "r": {
     "delete_cmd_postfix": ") ",
     "delete_cmd_prefix": "rm(",
     "library": "var_list.r",
     "varRefreshCmd": "cat(var_dic_list()) "
    }
   },
   "types_to_exclude": [
    "module",
    "function",
    "builtin_function_or_method",
    "instance",
    "_Feature"
   ],
   "window_display": false
  }
 },
 "nbformat": 4,
 "nbformat_minor": 5
}
