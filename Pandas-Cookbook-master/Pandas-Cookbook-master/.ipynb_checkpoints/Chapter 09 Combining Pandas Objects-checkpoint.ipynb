{
 "cells": [
  {
   "cell_type": "markdown",
   "metadata": {},
   "source": [
    "# Chapter 9: Combining Pandas Objects\n",
    "## Recipes\n",
    "* [Appending new rows to DataFrames](#Appending-new-rows-to-DataFrames)\n",
    "* [Concatenating multiple DataFrames together](#Concatenating-multiple-DataFrames-together)\n",
    "* [Comparing President Trump's and Obama's approval ratings](#Comparing-President-Trump's-and-Obama's-approval-ratings)\n",
    "* [Understanding the differences between concat, join, and merge](#Understanding-the-differences-between-concat,-join,-and-merge)\n",
    "* [Connecting to SQL databases](#Connecting-to-SQL-Databases)"
   ]
  },
  {
   "cell_type": "code",
   "execution_count": null,
   "metadata": {},
   "outputs": [],
   "source": [
    "import pandas as pd\n",
    "import numpy as np\n",
    "\n",
    "import matplotlib.pyplot as plt\n",
    "%matplotlib inline"
   ]
  },
  {
   "cell_type": "markdown",
   "metadata": {},
   "source": [
    "# Appending new rows to DataFrames"
   ]
  },
  {
   "cell_type": "code",
   "execution_count": null,
   "metadata": {},
   "outputs": [],
   "source": [
    "names = pd.read_csv('data/names.csv')\n",
    "names"
   ]
  },
  {
   "cell_type": "code",
   "execution_count": null,
   "metadata": {},
   "outputs": [],
   "source": [
    "new_data_list = ['Aria', 1]\n",
    "names.loc[4] = new_data_list\n",
    "names"
   ]
  },
  {
   "cell_type": "code",
   "execution_count": null,
   "metadata": {},
   "outputs": [],
   "source": [
    "names.loc['five'] = ['Zach', 3]\n",
    "names"
   ]
  },
  {
   "cell_type": "code",
   "execution_count": null,
   "metadata": {},
   "outputs": [],
   "source": [
    "names.loc[len(names)] = {'Name':'Zayd', 'Age':2}\n",
    "names"
   ]
  },
  {
   "cell_type": "code",
   "execution_count": null,
   "metadata": {},
   "outputs": [],
   "source": [
    "names"
   ]
  },
  {
   "cell_type": "code",
   "execution_count": null,
   "metadata": {},
   "outputs": [],
   "source": [
    "names.loc[len(names)] = pd.Series({'Age':32, 'Name':'Dean'})\n",
    "names"
   ]
  },
  {
   "cell_type": "code",
   "execution_count": null,
   "metadata": {},
   "outputs": [],
   "source": [
    "# Use append with fresh copy of names\n",
    "names = pd.read_csv('data/names.csv')\n",
    "names.append({'Name':'Aria', 'Age':1})"
   ]
  },
  {
   "cell_type": "code",
   "execution_count": null,
   "metadata": {},
   "outputs": [],
   "source": [
    "names.append({'Name':'Aria', 'Age':1}, ignore_index=True)"
   ]
  },
  {
   "cell_type": "code",
   "execution_count": null,
   "metadata": {},
   "outputs": [],
   "source": [
    "names.index = ['Canada', 'Canada', 'USA', 'USA']\n",
    "names"
   ]
  },
  {
   "cell_type": "code",
   "execution_count": null,
   "metadata": {},
   "outputs": [],
   "source": [
    "names.append({'Name':'Aria', 'Age':1}, ignore_index=True)"
   ]
  },
  {
   "cell_type": "code",
   "execution_count": null,
   "metadata": {},
   "outputs": [],
   "source": [
    "s = pd.Series({'Name': 'Zach', 'Age': 3}, name=len(names))\n",
    "s"
   ]
  },
  {
   "cell_type": "code",
   "execution_count": null,
   "metadata": {},
   "outputs": [],
   "source": [
    "names.append(s)"
   ]
  },
  {
   "cell_type": "code",
   "execution_count": null,
   "metadata": {},
   "outputs": [],
   "source": [
    "s1 = pd.Series({'Name': 'Zach', 'Age': 3}, name=len(names))\n",
    "s2 = pd.Series({'Name': 'Zayd', 'Age': 2}, name='USA')\n",
    "names.append([s1, s2])"
   ]
  },
  {
   "cell_type": "code",
   "execution_count": null,
   "metadata": {},
   "outputs": [],
   "source": [
    "bball_16 = pd.read_csv('data/baseball16.csv')\n",
    "bball_16.head()"
   ]
  },
  {
   "cell_type": "code",
   "execution_count": null,
   "metadata": {},
   "outputs": [],
   "source": [
    "data_dict = bball_16.iloc[0].to_dict()\n",
    "print(data_dict)"
   ]
  },
  {
   "cell_type": "code",
   "execution_count": null,
   "metadata": {},
   "outputs": [],
   "source": [
    "new_data_dict = {k: '' if isinstance(v, str) else np.nan for k, v in data_dict.items()}\n",
    "print(new_data_dict)"
   ]
  },
  {
   "cell_type": "markdown",
   "metadata": {},
   "source": [
    "## There's more..."
   ]
  },
  {
   "cell_type": "code",
   "execution_count": null,
   "metadata": {},
   "outputs": [],
   "source": [
    "random_data = []\n",
    "for i in range(1000):\n",
    "    d = dict()\n",
    "    for k, v in data_dict.items():\n",
    "        if isinstance(v, str):\n",
    "            d[k] = np.random.choice(list('abcde'))\n",
    "        else:\n",
    "            d[k] = np.random.randint(10)\n",
    "    random_data.append(pd.Series(d, name=i + len(bball_16)))\n",
    "    \n",
    "random_data[0].head()"
   ]
  },
  {
   "cell_type": "code",
   "execution_count": null,
   "metadata": {},
   "outputs": [],
   "source": [
    "%%timeit\n",
    "bball_16_copy = bball_16.copy()\n",
    "for row in random_data:\n",
    "    bball_16_copy = bball_16_copy.append(row)"
   ]
  },
  {
   "cell_type": "code",
   "execution_count": null,
   "metadata": {},
   "outputs": [],
   "source": [
    "%%timeit\n",
    "bball_16_copy = bball_16.copy()\n",
    "bball_16_copy = bball_16_copy.append(random_data)"
   ]
  },
  {
   "cell_type": "markdown",
   "metadata": {},
   "source": [
    "# Concatenating multiple DataFrames together"
   ]
  },
  {
   "cell_type": "code",
   "execution_count": null,
   "metadata": {},
   "outputs": [],
   "source": [
    "stocks_2016 = pd.read_csv('data/stocks_2016.csv', index_col='Symbol')\n",
    "stocks_2017 = pd.read_csv('data/stocks_2017.csv', index_col='Symbol')"
   ]
  },
  {
   "cell_type": "code",
   "execution_count": null,
   "metadata": {},
   "outputs": [],
   "source": [
    "stocks_2016"
   ]
  },
  {
   "cell_type": "code",
   "execution_count": null,
   "metadata": {},
   "outputs": [],
   "source": [
    "stocks_2017"
   ]
  },
  {
   "cell_type": "code",
   "execution_count": null,
   "metadata": {},
   "outputs": [],
   "source": [
    "s_list = [stocks_2016, stocks_2017]\n",
    "pd.concat(s_list)"
   ]
  },
  {
   "cell_type": "code",
   "execution_count": null,
   "metadata": {},
   "outputs": [],
   "source": [
    "pd.concat(s_list, keys=['2016', '2017'], names=['Year', 'Symbol'])"
   ]
  },
  {
   "cell_type": "code",
   "execution_count": null,
   "metadata": {},
   "outputs": [],
   "source": [
    "pd.concat(s_list, keys=['2016', '2017'], axis='columns', names=['Year', None])"
   ]
  },
  {
   "cell_type": "code",
   "execution_count": null,
   "metadata": {},
   "outputs": [],
   "source": [
    "pd.concat(s_list, join='inner', keys=['2016', '2017'], axis='columns', names=['Year', None])"
   ]
  },
  {
   "cell_type": "markdown",
   "metadata": {},
   "source": [
    "## There's more..."
   ]
  },
  {
   "cell_type": "code",
   "execution_count": null,
   "metadata": {},
   "outputs": [],
   "source": [
    "stocks_2016.append(stocks_2017)"
   ]
  },
  {
   "cell_type": "code",
   "execution_count": null,
   "metadata": {},
   "outputs": [],
   "source": [
    "stocks_2015 = stocks_2016.copy()"
   ]
  },
  {
   "cell_type": "code",
   "execution_count": null,
   "metadata": {},
   "outputs": [],
   "source": [
    "stocks_2017"
   ]
  },
  {
   "cell_type": "markdown",
   "metadata": {},
   "source": [
    "possibly add rule for no duplicate index"
   ]
  },
  {
   "cell_type": "markdown",
   "metadata": {},
   "source": [
    "# Comparing President Trump's and Obama's approval ratings"
   ]
  },
  {
   "cell_type": "code",
   "execution_count": null,
   "metadata": {},
   "outputs": [],
   "source": [
    "base_url = 'http://www.presidency.ucsb.edu/data/popularity.php?pres={}'\n",
    "trump_url = base_url.format(45)\n",
    "\n",
    "df_list = pd.read_html(trump_url)\n",
    "len(df_list)"
   ]
  },
  {
   "cell_type": "code",
   "execution_count": null,
   "metadata": {},
   "outputs": [],
   "source": [
    "df0 = df_list[0]\n",
    "df0.shape"
   ]
  },
  {
   "cell_type": "code",
   "execution_count": null,
   "metadata": {},
   "outputs": [],
   "source": [
    "df0.head(7)"
   ]
  },
  {
   "cell_type": "code",
   "execution_count": null,
   "metadata": {},
   "outputs": [],
   "source": [
    "df_list = pd.read_html(trump_url, match='Start Date')\n",
    "len(df_list)"
   ]
  },
  {
   "cell_type": "code",
   "execution_count": null,
   "metadata": {},
   "outputs": [],
   "source": [
    "df_list = pd.read_html(trump_url, match='Start Date', attrs={'align':'center'})\n",
    "len(df_list)"
   ]
  },
  {
   "cell_type": "code",
   "execution_count": null,
   "metadata": {},
   "outputs": [],
   "source": [
    "trump = df_list[0]\n",
    "trump.shape"
   ]
  },
  {
   "cell_type": "code",
   "execution_count": null,
   "metadata": {},
   "outputs": [],
   "source": [
    "trump.head(8)"
   ]
  },
  {
   "cell_type": "code",
   "execution_count": null,
   "metadata": {},
   "outputs": [],
   "source": [
    "df_list = pd.read_html(trump_url, match='Start Date', attrs={'align':'center'}, \n",
    "                       header=0, skiprows=[0,1,2,3,5], parse_dates=['Start Date', 'End Date'])\n",
    "trump = df_list[0]\n",
    "trump.head()"
   ]
  },
  {
   "cell_type": "code",
   "execution_count": null,
   "metadata": {},
   "outputs": [],
   "source": [
    "trump = trump.dropna(axis=1, how='all')\n",
    "trump.head()"
   ]
  },
  {
   "cell_type": "code",
   "execution_count": null,
   "metadata": {},
   "outputs": [],
   "source": [
    "trump.isnull().sum()"
   ]
  },
  {
   "cell_type": "code",
   "execution_count": null,
   "metadata": {},
   "outputs": [],
   "source": [
    "trump = trump.ffill()\n",
    "trump.head()"
   ]
  },
  {
   "cell_type": "code",
   "execution_count": null,
   "metadata": {},
   "outputs": [],
   "source": [
    "trump.dtypes"
   ]
  },
  {
   "cell_type": "code",
   "execution_count": null,
   "metadata": {},
   "outputs": [],
   "source": [
    "def get_pres_appr(pres_num):\n",
    "    base_url = 'http://www.presidency.ucsb.edu/data/popularity.php?pres={}'\n",
    "    pres_url = base_url.format(pres_num)\n",
    "    df_list = pd.read_html(pres_url, match='Start Date', attrs={'align':'center'}, \n",
    "                       header=0, skiprows=[0,1,2,3,5], parse_dates=['Start Date', 'End Date'])\n",
    "    pres = df_list[0].copy()\n",
    "    pres = pres.dropna(axis=1, how='all')\n",
    "    pres['President'] = pres['President'].ffill()\n",
    "    return pres.sort_values('End Date').reset_index(drop=True)"
   ]
  },
  {
   "cell_type": "code",
   "execution_count": null,
   "metadata": {},
   "outputs": [],
   "source": [
    "obama = get_pres_appr(44)\n",
    "obama.head()"
   ]
  },
  {
   "cell_type": "code",
   "execution_count": null,
   "metadata": {},
   "outputs": [],
   "source": [
    "pres_41_45 = pd.concat([get_pres_appr(x) for x in range(41,46)], ignore_index=True)\n",
    "pres_41_45.groupby('President').head(3)"
   ]
  },
  {
   "cell_type": "code",
   "execution_count": null,
   "metadata": {},
   "outputs": [],
   "source": [
    "pres_41_45['End Date'].value_counts().head(8)"
   ]
  },
  {
   "cell_type": "code",
   "execution_count": null,
   "metadata": {},
   "outputs": [],
   "source": [
    "pres_41_45 = pres_41_45.drop_duplicates(subset='End Date')"
   ]
  },
  {
   "cell_type": "code",
   "execution_count": null,
   "metadata": {},
   "outputs": [],
   "source": [
    "pres_41_45.shape"
   ]
  },
  {
   "cell_type": "code",
   "execution_count": null,
   "metadata": {},
   "outputs": [],
   "source": [
    "pres_41_45['President'].value_counts()"
   ]
  },
  {
   "cell_type": "code",
   "execution_count": null,
   "metadata": {},
   "outputs": [],
   "source": [
    "pres_41_45.groupby('President', sort=False).median().round(1)"
   ]
  },
  {
   "cell_type": "code",
   "execution_count": null,
   "metadata": {},
   "outputs": [],
   "source": [
    "from matplotlib import cm\n",
    "fig, ax = plt.subplots(figsize=(16,6))\n",
    "\n",
    "styles = ['-.', '-', ':', '-', ':']\n",
    "colors = [.9, .3, .7, .3, .9]\n",
    "groups = pres_41_45.groupby('President', sort=False)\n",
    "\n",
    "for style, color, (pres, df) in zip(styles, colors, groups):\n",
    "    df.plot('End Date', 'Approving', ax=ax, label=pres, style=style, color=cm.Greys(color), \n",
    "            title='Presedential Approval Rating')"
   ]
  },
  {
   "cell_type": "code",
   "execution_count": null,
   "metadata": {},
   "outputs": [],
   "source": [
    "days_func = lambda x: x - x.iloc[0]\n",
    "pres_41_45['Days in Office'] = pres_41_45.groupby('President') \\\n",
    "                                             ['End Date'] \\\n",
    "                                             .transform(days_func)"
   ]
  },
  {
   "cell_type": "code",
   "execution_count": null,
   "metadata": {},
   "outputs": [],
   "source": [
    "pres_41_45['Days in Office'] = pres_41_45.groupby('President')['End Date'].transform(lambda x: x - x.iloc[0])\n",
    "pres_41_45.groupby('President').head(3)"
   ]
  },
  {
   "cell_type": "code",
   "execution_count": null,
   "metadata": {},
   "outputs": [],
   "source": [
    "pres_41_45.dtypes"
   ]
  },
  {
   "cell_type": "code",
   "execution_count": null,
   "metadata": {},
   "outputs": [],
   "source": [
    "pres_41_45['Days in Office'] = pres_41_45['Days in Office'].dt.days\n",
    "pres_41_45['Days in Office'].head()"
   ]
  },
  {
   "cell_type": "code",
   "execution_count": null,
   "metadata": {},
   "outputs": [],
   "source": [
    "pres_pivot = pres_41_45.pivot(index='Days in Office', columns='President', values='Approving')\n",
    "pres_pivot.head()"
   ]
  },
  {
   "cell_type": "code",
   "execution_count": null,
   "metadata": {},
   "outputs": [],
   "source": [
    "plot_kwargs = dict(figsize=(16,6), color=cm.gray([.3, .7]), style=['-', '--'], title='Approval Rating')\n",
    "pres_pivot.loc[:250, ['Donald J. Trump', 'Barack Obama']].ffill().plot(**plot_kwargs)"
   ]
  },
  {
   "cell_type": "markdown",
   "metadata": {},
   "source": [
    "## There's more..."
   ]
  },
  {
   "cell_type": "code",
   "execution_count": null,
   "metadata": {},
   "outputs": [],
   "source": [
    "pres_rm = pres_41_45.groupby('President', sort=False) \\\n",
    "                    .rolling('90D', on='End Date')['Approving'] \\\n",
    "                    .mean()\n",
    "pres_rm.head()"
   ]
  },
  {
   "cell_type": "code",
   "execution_count": null,
   "metadata": {},
   "outputs": [],
   "source": [
    "styles = ['-.', '-', ':', '-', ':']\n",
    "colors = [.9, .3, .7, .3, .9]\n",
    "color = cm.Greys(colors)\n",
    "title='90 Day Approval Rating Rolling Average'\n",
    "plot_kwargs = dict(figsize=(16,6), style=styles, color = color, title=title)\n",
    "correct_col_order = pres_41_45.President.unique()\n",
    "pres_rm.unstack('President')[correct_col_order].plot(**plot_kwargs)"
   ]
  },
  {
   "cell_type": "markdown",
   "metadata": {},
   "source": [
    "# Understanding the differences between concat, join, and merge"
   ]
  },
  {
   "cell_type": "code",
   "execution_count": null,
   "metadata": {},
   "outputs": [],
   "source": [
    "from IPython.display import display_html\n",
    "\n",
    "years = 2016, 2017, 2018\n",
    "stock_tables = [pd.read_csv('data/stocks_{}.csv'.format(year), index_col='Symbol') \n",
    "                for year in years]\n",
    "\n",
    "def display_frames(frames, num_spaces=0):\n",
    "    t_style = '<table style=\"display: inline;\"'\n",
    "    tables_html = [df.to_html().replace('<table', t_style) for df in frames]\n",
    "\n",
    "    space = '&nbsp;' * num_spaces\n",
    "    display_html(space.join(tables_html), raw=True)\n",
    "\n",
    "display_frames(stock_tables, 30)\n",
    "stocks_2016, stocks_2017, stocks_2018 = stock_tables"
   ]
  },
  {
   "cell_type": "code",
   "execution_count": null,
   "metadata": {},
   "outputs": [],
   "source": [
    "pd.concat(stock_tables, keys=[2016, 2017, 2018])"
   ]
  },
  {
   "cell_type": "code",
   "execution_count": null,
   "metadata": {},
   "outputs": [],
   "source": [
    "pd.concat(dict(zip(years,stock_tables)), axis='columns')"
   ]
  },
  {
   "cell_type": "code",
   "execution_count": null,
   "metadata": {},
   "outputs": [],
   "source": [
    "stocks_2016.join(stocks_2017, lsuffix='_2016', rsuffix='_2017', how='outer')"
   ]
  },
  {
   "cell_type": "code",
   "execution_count": null,
   "metadata": {},
   "outputs": [],
   "source": [
    "stocks_2016"
   ]
  },
  {
   "cell_type": "code",
   "execution_count": null,
   "metadata": {},
   "outputs": [],
   "source": [
    "other = [stocks_2017.add_suffix('_2017'), stocks_2018.add_suffix('_2018')]\n",
    "stocks_2016.add_suffix('_2016').join(other, how='outer')"
   ]
  },
  {
   "cell_type": "code",
   "execution_count": null,
   "metadata": {},
   "outputs": [],
   "source": [
    "stock_join = stocks_2016.add_suffix('_2016').join(other, how='outer')\n",
    "stock_concat = pd.concat(dict(zip(years,stock_tables)), axis='columns')"
   ]
  },
  {
   "cell_type": "code",
   "execution_count": null,
   "metadata": {},
   "outputs": [],
   "source": [
    "stock_concat.columns = stock_concat.columns.get_level_values(1) + '_' + \\\n",
    "                            stock_concat.columns.get_level_values(0).astype(str)"
   ]
  },
  {
   "cell_type": "code",
   "execution_count": null,
   "metadata": {},
   "outputs": [],
   "source": [
    "stock_concat"
   ]
  },
  {
   "cell_type": "code",
   "execution_count": null,
   "metadata": {},
   "outputs": [],
   "source": [
    "step1 = stocks_2016.merge(stocks_2017, left_index=True, right_index=True, \n",
    "                          how='outer', suffixes=('_2016', '_2017'))\n",
    "stock_merge = step1.merge(stocks_2018.add_suffix('_2018'), \n",
    "                          left_index=True, right_index=True, how='outer')\n",
    "\n",
    "stock_concat.equals(stock_merge)"
   ]
  },
  {
   "cell_type": "code",
   "execution_count": null,
   "metadata": {},
   "outputs": [],
   "source": [
    "names = ['prices', 'transactions']\n",
    "food_tables = [pd.read_csv('data/food_{}.csv'.format(name)) for name in names]\n",
    "food_prices, food_transactions = food_tables\n",
    "display_frames(food_tables, 30)"
   ]
  },
  {
   "cell_type": "code",
   "execution_count": null,
   "metadata": {},
   "outputs": [],
   "source": [
    "food_transactions.merge(food_prices, on=['item', 'store'])"
   ]
  },
  {
   "cell_type": "code",
   "execution_count": null,
   "metadata": {},
   "outputs": [],
   "source": [
    "food_transactions.merge(food_prices.query('Date == 2017'), how='left')"
   ]
  },
  {
   "cell_type": "code",
   "execution_count": null,
   "metadata": {},
   "outputs": [],
   "source": [
    "food_prices_join = food_prices.query('Date == 2017').set_index(['item', 'store'])\n",
    "food_prices_join"
   ]
  },
  {
   "cell_type": "code",
   "execution_count": null,
   "metadata": {},
   "outputs": [],
   "source": [
    "food_transactions.join(food_prices_join, on=['item', 'store'])"
   ]
  },
  {
   "cell_type": "code",
   "execution_count": null,
   "metadata": {},
   "outputs": [],
   "source": [
    "pd.concat([food_transactions.set_index(['item', 'store']), \n",
    "           food_prices.set_index(['item', 'store'])], axis='columns')"
   ]
  },
  {
   "cell_type": "code",
   "execution_count": null,
   "metadata": {},
   "outputs": [],
   "source": [
    "import glob\n",
    "\n",
    "df_list = []\n",
    "for filename in glob.glob('data/gas prices/*.csv'):\n",
    "    df_list.append(pd.read_csv(filename, index_col='Week', parse_dates=['Week']))\n",
    "\n",
    "gas = pd.concat(df_list, axis='columns')\n",
    "gas.head()"
   ]
  },
  {
   "cell_type": "markdown",
   "metadata": {},
   "source": [
    "# Connecting to SQL Databases"
   ]
  },
  {
   "cell_type": "code",
   "execution_count": null,
   "metadata": {},
   "outputs": [],
   "source": [
    "from sqlalchemy import create_engine\n",
    "engine = create_engine('sqlite:///data/chinook.db')"
   ]
  },
  {
   "cell_type": "code",
   "execution_count": null,
   "metadata": {},
   "outputs": [],
   "source": [
    "tracks = pd.read_sql_table('tracks', engine)\n",
    "tracks.head()"
   ]
  },
  {
   "cell_type": "code",
   "execution_count": null,
   "metadata": {},
   "outputs": [],
   "source": [
    "genres = pd.read_sql_table('genres', engine)\n",
    "genres.head()"
   ]
  },
  {
   "cell_type": "code",
   "execution_count": null,
   "metadata": {},
   "outputs": [],
   "source": [
    "genre_track = genres.merge(tracks[['GenreId', 'Milliseconds']], \n",
    "                           on='GenreId', how='left') \\\n",
    "                     .drop('GenreId', axis='columns')\n",
    "genre_track.head()"
   ]
  },
  {
   "cell_type": "code",
   "execution_count": null,
   "metadata": {},
   "outputs": [],
   "source": [
    "genre_time = genre_track.groupby('Name')['Milliseconds'].mean()\n",
    "pd.to_timedelta(genre_time, unit='ms').dt.floor('s').sort_values()"
   ]
  },
  {
   "cell_type": "code",
   "execution_count": null,
   "metadata": {},
   "outputs": [],
   "source": [
    "cust = pd.read_sql_table('customers', engine, \n",
    "                         columns=['CustomerId', 'FirstName', 'LastName'])\n",
    "invoice = pd.read_sql_table('invoices', engine, \n",
    "                            columns=['InvoiceId','CustomerId'])\n",
    "ii = pd.read_sql_table('invoice_items', engine, \n",
    "                       columns=['InvoiceId', 'UnitPrice', 'Quantity'])"
   ]
  },
  {
   "cell_type": "code",
   "execution_count": null,
   "metadata": {},
   "outputs": [],
   "source": [
    "cust_inv = cust.merge(invoice, on='CustomerId') \\\n",
    "               .merge(ii, on='InvoiceId')\n",
    "cust_inv.head()"
   ]
  },
  {
   "cell_type": "code",
   "execution_count": null,
   "metadata": {},
   "outputs": [],
   "source": [
    "total = cust_inv['Quantity'] * cust_inv['UnitPrice']\n",
    "cols = ['CustomerId', 'FirstName', 'LastName']\n",
    "cust_inv.assign(Total = total).groupby(cols)['Total'] \\\n",
    "                                  .sum() \\\n",
    "                                  .sort_values(ascending=False).head()"
   ]
  },
  {
   "cell_type": "markdown",
   "metadata": {},
   "source": [
    "## There's more..."
   ]
  },
  {
   "cell_type": "code",
   "execution_count": null,
   "metadata": {},
   "outputs": [],
   "source": [
    "pd.read_sql_query('select * from tracks limit 5', engine)"
   ]
  },
  {
   "cell_type": "code",
   "execution_count": null,
   "metadata": {},
   "outputs": [],
   "source": [
    "sql_string1 = '''\n",
    "select \n",
    "    Name, \n",
    "    time(avg(Milliseconds) / 1000, 'unixepoch') as avg_time\n",
    "from (\n",
    "        select \n",
    "            g.Name, \n",
    "            t.Milliseconds\n",
    "        from \n",
    "            genres as g \n",
    "        join\n",
    "            tracks as t\n",
    "            on \n",
    "                g.genreid == t.genreid\n",
    "    )\n",
    "group by \n",
    "    Name\n",
    "order by \n",
    "    avg_time\n",
    "'''\n",
    "pd.read_sql_query(sql_string1, engine)"
   ]
  },
  {
   "cell_type": "code",
   "execution_count": null,
   "metadata": {},
   "outputs": [],
   "source": [
    "sql_string2 = '''\n",
    "select \n",
    "      c.customerid, \n",
    "      c.FirstName, \n",
    "      c.LastName, \n",
    "      sum(ii.quantity *  ii.unitprice) as Total\n",
    "from\n",
    "     customers as c\n",
    "join\n",
    "     invoices as i\n",
    "          on c.customerid = i.customerid\n",
    "join\n",
    "    invoice_items as ii\n",
    "          on i.invoiceid = ii.invoiceid\n",
    "group by\n",
    "    c.customerid, c.FirstName, c.LastName\n",
    "order by\n",
    "    Total desc\n",
    "'''\n",
    "pd.read_sql_query(sql_string2, engine)"
   ]
  },
  {
   "cell_type": "code",
   "execution_count": null,
   "metadata": {},
   "outputs": [],
   "source": []
  }
 ],
 "metadata": {
  "kernelspec": {
   "display_name": "Python 3",
   "language": "python",
   "name": "python3"
  },
  "language_info": {
   "codemirror_mode": {
    "name": "ipython",
    "version": 3
   },
   "file_extension": ".py",
   "mimetype": "text/x-python",
   "name": "python",
   "nbconvert_exporter": "python",
   "pygments_lexer": "ipython3",
   "version": "3.7.3"
  }
 },
 "nbformat": 4,
 "nbformat_minor": 2
}
