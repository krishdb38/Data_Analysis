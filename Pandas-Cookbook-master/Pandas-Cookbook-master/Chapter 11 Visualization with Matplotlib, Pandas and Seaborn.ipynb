{
 "cells": [
  {
   "cell_type": "markdown",
   "metadata": {},
   "source": [
    "# Chapter 11: Visualization with Matplotlib, Pandas, and Seaborn\n",
    "## Recipes\n",
    "\n",
    "* [Getting started with matplotlib](#Getting-started-with-matplotlib)\n",
    "* [Visualizing data with matplotlib](#Visualizing-data-with-matplotlib)\n",
    "* [Plotting basics with pandas](#Plotting-basics-with-pandas)\n",
    "* [Visualizing the flights dataset](#Visualizing-the-flights-dataset)\n",
    "* [Stacking area charts to discover emerging trends](#Stacking-area-charts-to-discover-emerging-trends)\n",
    "* [Understanding the differences between seaborn and pandas](#Understanding-the-differences-between-seaborn-and-pandas)\n",
    "* [Doing multivariate analysis with seaborn grids](#Doing-multivariate-analysis-with-seaborn-grids)\n",
    "* [Uncovering Simpson's paradox in the diamonds dataset with seaborn](#Uncovering-Simpson's-paradox-in-the-diamonds-dataset-with-seaborn)"
   ]
  },
  {
   "cell_type": "code",
   "execution_count": null,
   "metadata": {},
   "outputs": [],
   "source": [
    "import pandas as pd\n",
    "import numpy as np\n",
    "import matplotlib.pyplot as plt\n",
    "\n",
    "%matplotlib inline"
   ]
  },
  {
   "cell_type": "markdown",
   "metadata": {},
   "source": [
    "# Getting started with matplotlib"
   ]
  },
  {
   "cell_type": "markdown",
   "metadata": {},
   "source": [
    "## Getting Ready"
   ]
  },
  {
   "cell_type": "code",
   "execution_count": null,
   "metadata": {},
   "outputs": [],
   "source": [
    "x = [-3, 5, 7]\n",
    "y = [10, 2, 5]\n",
    "\n",
    "plt.figure(figsize=(15,3))\n",
    "plt.plot(x, y)\n",
    "plt.xlim(0, 10)\n",
    "plt.ylim(-3, 8)\n",
    "plt.xlabel('X Axis')\n",
    "plt.ylabel('Y axis')\n",
    "plt.title('Line Plot')\n",
    "plt.suptitle('Figure Title', size=20, y=1.03)"
   ]
  },
  {
   "cell_type": "code",
   "execution_count": null,
   "metadata": {},
   "outputs": [],
   "source": [
    "fig, ax = plt.subplots(figsize=(15,3))\n",
    "ax.plot(x, y)\n",
    "ax.set_xlim(0, 10)\n",
    "ax.set_ylim(-3, 8)\n",
    "ax.set_xlabel('X axis')\n",
    "ax.set_ylabel('Y axis')\n",
    "ax.set_title('Line Plot')\n",
    "fig.suptitle('Figure Title', size=20, y=1.03)"
   ]
  },
  {
   "cell_type": "code",
   "execution_count": null,
   "metadata": {},
   "outputs": [],
   "source": [
    "fig, ax = plt.subplots(nrows=1, ncols=1)"
   ]
  },
  {
   "cell_type": "code",
   "execution_count": null,
   "metadata": {},
   "outputs": [],
   "source": [
    "type(fig)"
   ]
  },
  {
   "cell_type": "code",
   "execution_count": null,
   "metadata": {},
   "outputs": [],
   "source": [
    "type(ax)"
   ]
  },
  {
   "cell_type": "code",
   "execution_count": null,
   "metadata": {},
   "outputs": [],
   "source": [
    "fig.get_size_inches()"
   ]
  },
  {
   "cell_type": "code",
   "execution_count": null,
   "metadata": {},
   "outputs": [],
   "source": [
    "fig.set_size_inches(14, 4)\n",
    "fig"
   ]
  },
  {
   "cell_type": "code",
   "execution_count": null,
   "metadata": {},
   "outputs": [],
   "source": [
    "fig.axes"
   ]
  },
  {
   "cell_type": "code",
   "execution_count": null,
   "metadata": {},
   "outputs": [],
   "source": [
    "fig.axes[0] is ax"
   ]
  },
  {
   "cell_type": "code",
   "execution_count": null,
   "metadata": {},
   "outputs": [],
   "source": [
    "fig.set_facecolor('.9')\n",
    "ax.set_facecolor('.7')\n",
    "fig"
   ]
  },
  {
   "cell_type": "code",
   "execution_count": null,
   "metadata": {},
   "outputs": [],
   "source": [
    "spines = ax.spines\n",
    "spines"
   ]
  },
  {
   "cell_type": "code",
   "execution_count": null,
   "metadata": {},
   "outputs": [],
   "source": [
    "spine_left = spines['left']\n",
    "spine_left.set_position(('outward', -100))\n",
    "spine_left.set_linewidth(5)\n",
    "\n",
    "spine_bottom = spines['bottom']\n",
    "spine_bottom.set_visible(False)\n",
    "fig"
   ]
  },
  {
   "cell_type": "code",
   "execution_count": null,
   "metadata": {},
   "outputs": [],
   "source": [
    "ax.xaxis.grid(True, which='major', linewidth=2, color='black', linestyle='--')\n",
    "ax.xaxis.set_ticks([.2, .4, .55, .93])\n",
    "ax.xaxis.set_label_text('X Axis', family='Verdana', fontsize=15)\n",
    "\n",
    "ax.set_ylabel('Y Axis', family='Calibri', fontsize=20)\n",
    "ax.set_yticks([.1, .9])\n",
    "ax.set_yticklabels(['point 1', 'point 9'], rotation=45)\n",
    "fig"
   ]
  },
  {
   "cell_type": "code",
   "execution_count": null,
   "metadata": {},
   "outputs": [],
   "source": [
    "ax.xaxis.properties()"
   ]
  },
  {
   "cell_type": "code",
   "execution_count": null,
   "metadata": {},
   "outputs": [],
   "source": [
    "movie = pd.read_csv('data/movie.csv')\n",
    "\n",
    "med_budget = movie.groupby('title_year')['budget'].median() / 1e6\n",
    "med_budget_roll = med_budget.rolling(5, min_periods=1).mean()\n",
    "med_budget_roll.tail()"
   ]
  },
  {
   "cell_type": "code",
   "execution_count": null,
   "metadata": {},
   "outputs": [],
   "source": [
    "years = med_budget_roll.index.values\n",
    "years[-5:]"
   ]
  },
  {
   "cell_type": "code",
   "execution_count": null,
   "metadata": {},
   "outputs": [],
   "source": [
    "budget = med_budget_roll.values\n",
    "budget[-5:]"
   ]
  },
  {
   "cell_type": "code",
   "execution_count": null,
   "metadata": {},
   "outputs": [],
   "source": [
    "fig, ax = plt.subplots(figsize=(14,4), linewidth=5, edgecolor='.5')\n",
    "ax.plot(years, budget, linestyle='--', linewidth=3, color='.2', label='All Movies')\n",
    "text_kwargs=dict(fontsize=20, family='cursive')\n",
    "ax.set_title('Median Movie Budget', **text_kwargs)\n",
    "ax.set_ylabel('Millions of Dollars', **text_kwargs)"
   ]
  },
  {
   "cell_type": "code",
   "execution_count": null,
   "metadata": {},
   "outputs": [],
   "source": [
    "movie_count = movie.groupby('title_year')['budget'].count()\n",
    "movie_count.tail()"
   ]
  },
  {
   "cell_type": "code",
   "execution_count": null,
   "metadata": {},
   "outputs": [],
   "source": [
    "ct = movie_count.values\n",
    "ct_norm = ct / ct.max() * budget.max()\n",
    "\n",
    "fifth_year = (years % 5 == 0) & (years >= 1970)\n",
    "years_5 = years[fifth_year]\n",
    "ct_5 = ct[fifth_year]\n",
    "ct_norm_5 = ct_norm[fifth_year]\n",
    "\n",
    "ax.bar(years_5, ct_norm_5, 3, facecolor='.5', alpha=.3, label='Movies per Year')\n",
    "ax.set_xlim(1968, 2017)\n",
    "for x, y, v in zip(years_5, ct_norm_5, ct_5):\n",
    "    ax.text(x, y + .5, str(v), ha='center')\n",
    "ax.legend()\n",
    "fig"
   ]
  },
  {
   "cell_type": "markdown",
   "metadata": {},
   "source": [
    "## How it works..."
   ]
  },
  {
   "cell_type": "code",
   "execution_count": null,
   "metadata": {},
   "outputs": [],
   "source": [
    "plot_objects = plt.subplots()"
   ]
  },
  {
   "cell_type": "code",
   "execution_count": null,
   "metadata": {},
   "outputs": [],
   "source": [
    "type(plot_objects)"
   ]
  },
  {
   "cell_type": "code",
   "execution_count": null,
   "metadata": {},
   "outputs": [],
   "source": [
    "fig = plot_objects[0]\n",
    "ax = plot_objects[1]"
   ]
  },
  {
   "cell_type": "code",
   "execution_count": null,
   "metadata": {},
   "outputs": [],
   "source": [
    "plot_objects = plt.subplots(2, 4, figsize=(14, 4))"
   ]
  },
  {
   "cell_type": "code",
   "execution_count": null,
   "metadata": {},
   "outputs": [],
   "source": [
    "plot_objects[1]"
   ]
  },
  {
   "cell_type": "code",
   "execution_count": null,
   "metadata": {},
   "outputs": [],
   "source": [
    "fig.get_axes() == fig.axes"
   ]
  },
  {
   "cell_type": "code",
   "execution_count": null,
   "metadata": {},
   "outputs": [],
   "source": [
    "fig, ax = plt.subplots()"
   ]
  },
  {
   "cell_type": "code",
   "execution_count": null,
   "metadata": {},
   "outputs": [],
   "source": [
    "fig.axes == fig.get_axes()"
   ]
  },
  {
   "cell_type": "code",
   "execution_count": null,
   "metadata": {},
   "outputs": [],
   "source": [
    "ax.xaxis == ax.get_xaxis()"
   ]
  },
  {
   "cell_type": "code",
   "execution_count": null,
   "metadata": {},
   "outputs": [],
   "source": [
    "ax.yaxis == ax.get_yaxis()"
   ]
  },
  {
   "cell_type": "markdown",
   "metadata": {},
   "source": [
    "# Visualizing data with matplotlib"
   ]
  },
  {
   "cell_type": "code",
   "execution_count": null,
   "metadata": {},
   "outputs": [],
   "source": [
    "movie = pd.read_csv('data/movie.csv')\n",
    "med_budget = movie.groupby('title_year')['budget'].median() / 1e6\n",
    "med_budget_roll = med_budget.rolling(5, min_periods=1).mean()\n",
    "med_budget_roll.tail()"
   ]
  },
  {
   "cell_type": "code",
   "execution_count": null,
   "metadata": {},
   "outputs": [],
   "source": [
    "years = med_budget_roll.index.values\n",
    "years[-5:]"
   ]
  },
  {
   "cell_type": "code",
   "execution_count": null,
   "metadata": {},
   "outputs": [],
   "source": [
    "budget = med_budget_roll.values\n",
    "budget[-5:]"
   ]
  },
  {
   "cell_type": "code",
   "execution_count": null,
   "metadata": {},
   "outputs": [],
   "source": [
    "fig, ax = plt.subplots(figsize=(14,4), linewidth=5, edgecolor='.5')\n",
    "ax.plot(years, budget, linestyle='--', linewidth=3, color='.2', label='All Movies')\n",
    "text_kwargs=dict(fontsize=20, family='cursive')\n",
    "ax.set_title('Median Movie Budget', **text_kwargs)\n",
    "ax.set_ylabel('Millions of Dollars', **text_kwargs)"
   ]
  },
  {
   "cell_type": "code",
   "execution_count": null,
   "metadata": {},
   "outputs": [],
   "source": [
    "movie_count = movie.groupby('title_year')['budget'].count()\n",
    "movie_count.tail()"
   ]
  },
  {
   "cell_type": "code",
   "execution_count": null,
   "metadata": {},
   "outputs": [],
   "source": [
    "ct = movie_count.values\n",
    "ct_norm = ct / ct.max() * budget.max()\n",
    "\n",
    "fifth_year = (years % 5 == 0) & (years >= 1970)\n",
    "years_5 = years[fifth_year]\n",
    "ct_5 = ct[fifth_year]\n",
    "ct_norm_5 = ct_norm[fifth_year]\n",
    "\n",
    "ax.bar(years_5, ct_norm_5, 3, facecolor='.5', alpha=.3, label='Movies per Year')\n",
    "ax.set_xlim(1968, 2017)\n",
    "for x, y, v in zip(years_5, ct_norm_5, ct_5):\n",
    "    ax.text(x, y + .5, str(v), ha='center')\n",
    "ax.legend()\n",
    "fig"
   ]
  },
  {
   "cell_type": "code",
   "execution_count": null,
   "metadata": {},
   "outputs": [],
   "source": [
    "top10 = movie.sort_values('budget', ascending=False) \\\n",
    "             .groupby('title_year')['budget'] \\\n",
    "             .apply(lambda x: x.iloc[:10].median() / 1e6)\n",
    "        \n",
    "top10_roll = top10.rolling(5, min_periods=1).mean()\n",
    "top10_roll.tail()"
   ]
  },
  {
   "cell_type": "code",
   "execution_count": null,
   "metadata": {},
   "outputs": [],
   "source": [
    "fig2, ax_array = plt.subplots(2, 1, figsize=(14,6), sharex=True)\n",
    "ax1 = ax_array[0]\n",
    "ax2 = ax_array[1]\n",
    "\n",
    "ax1.plot(years, budget, linestyle='--', linewidth=3, color='.2', label='All Movies')\n",
    "ax1.bar(years_5, ct_norm_5, 3, facecolor='.5', alpha=.3, label='Movies per Year')\n",
    "ax1.legend(loc='upper left')\n",
    "ax1.set_xlim(1968, 2017)\n",
    "plt.setp(ax1.get_xticklines(), visible=False)\n",
    "\n",
    "for x, y, v in zip(years_5, ct_norm_5, ct_5):\n",
    "    ax1.text(x, y + .5, str(v), ha='center')\n",
    "\n",
    "ax2.plot(years, top10_roll.values, color='.2', label='Top 10 Movies')\n",
    "ax2.legend(loc='upper left')\n",
    "\n",
    "fig2.tight_layout()\n",
    "fig2.suptitle('Median Movie Budget', y=1.02, **text_kwargs)\n",
    "fig2.text(0, .6, 'Millions of Dollars', rotation='vertical', ha='center', **text_kwargs)\n",
    "\n",
    "import os\n",
    "path = os.path.expanduser('~/Desktop/movie_budget.png')\n",
    "fig2.savefig(path, bbox_inches='tight')"
   ]
  },
  {
   "cell_type": "markdown",
   "metadata": {},
   "source": [
    "## How it works..."
   ]
  },
  {
   "cell_type": "code",
   "execution_count": null,
   "metadata": {},
   "outputs": [],
   "source": [
    "med_budget_roll.tail()"
   ]
  },
  {
   "cell_type": "code",
   "execution_count": null,
   "metadata": {},
   "outputs": [],
   "source": [
    "med_budget.loc[2012:2016].mean()"
   ]
  },
  {
   "cell_type": "code",
   "execution_count": null,
   "metadata": {},
   "outputs": [],
   "source": [
    "med_budget.loc[2011:2015].mean()"
   ]
  },
  {
   "cell_type": "code",
   "execution_count": null,
   "metadata": {},
   "outputs": [],
   "source": [
    "med_budget.loc[2010:2014].mean()"
   ]
  },
  {
   "cell_type": "code",
   "execution_count": null,
   "metadata": {},
   "outputs": [],
   "source": [
    "os.path.expanduser('~/Desktop/movie_budget.png')"
   ]
  },
  {
   "cell_type": "markdown",
   "metadata": {},
   "source": [
    "## There's more..."
   ]
  },
  {
   "cell_type": "code",
   "execution_count": null,
   "metadata": {},
   "outputs": [],
   "source": [
    "cols = ['budget', 'title_year', 'imdb_score', 'movie_title']\n",
    "m = movie[cols].dropna()\n",
    "\n",
    "# m = movie[['budget', 'title_year', 'imdb_score', 'movie_title']].dropna()\n",
    "m['budget2'] = m['budget'] / 1e6\n",
    "np.random.seed(0)\n",
    "movie_samp = m.query('title_year >= 2000').sample(100)\n",
    "\n",
    "fig, ax = plt.subplots(figsize=(14,6))\n",
    "ax.scatter(x='title_year', y='imdb_score', s='budget2', data=movie_samp)\n",
    "\n",
    "idx_min = movie_samp['imdb_score'].idxmin()\n",
    "idx_max = movie_samp['imdb_score'].idxmax()\n",
    "for idx, offset in zip([idx_min, idx_max], [.5, -.5]):\n",
    "    year = movie_samp.loc[idx, 'title_year']\n",
    "    score = movie_samp.loc[idx, 'imdb_score']\n",
    "    title = movie_samp.loc[idx, 'movie_title']\n",
    "    ax.annotate(xy=(year, score), \n",
    "                xytext=(year + 1, score + offset), \n",
    "                s=title + ' ({})'.format(score),\n",
    "                ha='center',\n",
    "                size=16,\n",
    "                arrowprops=dict(arrowstyle=\"fancy\"))\n",
    "ax.set_title('IMDB Score by Year', size=25)\n",
    "ax.grid(True)"
   ]
  },
  {
   "cell_type": "markdown",
   "metadata": {},
   "source": [
    "# Plotting basics with pandas"
   ]
  },
  {
   "cell_type": "code",
   "execution_count": null,
   "metadata": {},
   "outputs": [],
   "source": [
    "df = pd.DataFrame(index=['Atiya', 'Abbas', 'Cornelia', 'Stephanie', 'Monte'], \n",
    "                  data={'Apples':[20, 10, 40, 20, 50],\n",
    "                        'Oranges':[35, 40, 25, 19, 33]})\n",
    "df"
   ]
  },
  {
   "cell_type": "code",
   "execution_count": null,
   "metadata": {},
   "outputs": [],
   "source": [
    "color = ['.2', '.7']\n",
    "df.plot(kind='bar', color=color, figsize=(16,4))"
   ]
  },
  {
   "cell_type": "code",
   "execution_count": null,
   "metadata": {},
   "outputs": [],
   "source": [
    "df.plot(kind='kde', color=color, figsize=(16,4))"
   ]
  },
  {
   "cell_type": "code",
   "execution_count": null,
   "metadata": {
    "scrolled": false
   },
   "outputs": [],
   "source": [
    "fig, (ax1, ax2, ax3) = plt.subplots(1, 3, figsize=(16,4))\n",
    "fig.suptitle('Two Variable Plots', size=20, y=1.02)\n",
    "df.plot(kind='line', color=color, ax=ax1, title='Line plot')\n",
    "df.plot(x='Apples', y='Oranges', kind='scatter', color=color, \n",
    "        ax=ax2, title='Scatterplot')\n",
    "df.plot(kind='bar', color=color, ax=ax3, title='Bar plot')"
   ]
  },
  {
   "cell_type": "code",
   "execution_count": null,
   "metadata": {},
   "outputs": [],
   "source": [
    "fig, (ax1, ax2, ax3) = plt.subplots(1, 3, figsize=(16,4))\n",
    "fig.suptitle('One Variable Plots', size=20, y=1.02)\n",
    "df.plot(kind='kde', color=color, ax=ax1, title='KDE plot')\n",
    "df.plot(kind='box', ax=ax2, title='Boxplot')\n",
    "df.plot(kind='hist', color=color, ax=ax3, title='Histogram')"
   ]
  },
  {
   "cell_type": "markdown",
   "metadata": {},
   "source": [
    "## There's more"
   ]
  },
  {
   "cell_type": "code",
   "execution_count": null,
   "metadata": {
    "scrolled": true
   },
   "outputs": [],
   "source": [
    "fig, (ax1, ax2, ax3) = plt.subplots(1, 3, figsize=(16,4))\n",
    "df.sort_values('Apples').plot(x='Apples', y='Oranges', kind='line', ax=ax1)\n",
    "df.plot(x='Apples', y='Oranges', kind='bar', ax=ax2)\n",
    "df.plot(x='Apples', kind='kde', ax=ax3)"
   ]
  },
  {
   "cell_type": "markdown",
   "metadata": {},
   "source": [
    "# Visualizing the flights dataset"
   ]
  },
  {
   "cell_type": "code",
   "execution_count": null,
   "metadata": {},
   "outputs": [],
   "source": [
    "flights = pd.read_csv('data/flights.csv')\n",
    "flights.head()"
   ]
  },
  {
   "cell_type": "code",
   "execution_count": null,
   "metadata": {},
   "outputs": [],
   "source": [
    "flights['DELAYED'] = flights['ARR_DELAY'].ge(15).astype(int)\n",
    "cols = ['DIVERTED', 'CANCELLED', 'DELAYED']\n",
    "flights['ON_TIME'] = 1 - flights[cols].any(axis=1)\n",
    "\n",
    "cols.append('ON_TIME')\n",
    "status = flights[cols].sum()\n",
    "status"
   ]
  },
  {
   "cell_type": "code",
   "execution_count": null,
   "metadata": {},
   "outputs": [],
   "source": [
    "fig, ax_array = plt.subplots(2, 3, figsize=(18,8))\n",
    "(ax1, ax2, ax3), (ax4, ax5, ax6) = ax_array\n",
    "fig.suptitle('2015 US Flights - Univariate Summary', size=20)\n",
    "\n",
    "ac = flights['AIRLINE'].value_counts()\n",
    "ac.plot(kind='barh', ax=ax1, title ='Airline')\n",
    "\n",
    "oc = flights['ORG_AIR'].value_counts()\n",
    "oc.plot(kind='bar', ax=ax2, rot=0, title='Origin City')\n",
    "\n",
    "dc = flights['DEST_AIR'].value_counts().head(10)\n",
    "dc.plot(kind='bar', ax=ax3, rot=0, title='Destination City')\n",
    "\n",
    "status.plot(kind='bar', ax=ax4, rot=0, log=True, title='Flight Status')\n",
    "flights['DIST'].plot(kind='kde', ax=ax5, xlim=(0, 3000),\n",
    "                     title='Distance KDE')\n",
    "flights['ARR_DELAY'].plot(kind='hist', ax=ax6, \n",
    "                          title='Arrival Delay', range=(0,200))"
   ]
  },
  {
   "cell_type": "code",
   "execution_count": null,
   "metadata": {},
   "outputs": [],
   "source": [
    "hour = flights['SCHED_DEP'] // 100\n",
    "minute = flights['SCHED_DEP'] % 100\n",
    "df_date = flights[['MONTH', 'DAY']].assign(YEAR=2015, HOUR=hour, MINUTE=minute)\n",
    "df_date.head()"
   ]
  },
  {
   "cell_type": "code",
   "execution_count": null,
   "metadata": {},
   "outputs": [],
   "source": [
    "flight_dep = pd.to_datetime(df_date)\n",
    "flight_dep.head()"
   ]
  },
  {
   "cell_type": "code",
   "execution_count": null,
   "metadata": {},
   "outputs": [],
   "source": [
    "flights.index = flight_dep\n",
    "fc = flights.resample('W').size()\n",
    "fc.plot(figsize=(12,3), title='Flights per Week', grid=True)"
   ]
  },
  {
   "cell_type": "code",
   "execution_count": null,
   "metadata": {},
   "outputs": [],
   "source": [
    "fc_miss = fc.where(fc >  1000)\n",
    "fc_intp = fc_miss.interpolate(limit_direction='both')\n",
    "\n",
    "ax = fc_intp.plot(color='black', figsize=(16,4))\n",
    "fc_intp[fc < 500].plot(linewidth=10, grid=True, \n",
    "                       color='.8', ax=ax)\n",
    "\n",
    "ax.annotate(xy=(.8, .55), xytext=(.8, .77), \n",
    "            xycoords='axes fraction', s='missing data', \n",
    "            ha='center',  size=20, arrowprops=dict())\n",
    "ax.set_title('Flights per Week (Interpolated Missing Data)')"
   ]
  },
  {
   "cell_type": "code",
   "execution_count": null,
   "metadata": {},
   "outputs": [],
   "source": [
    "flights.groupby('DEST_AIR')['DIST'] \\\n",
    "       .agg(['mean', 'count']) \\\n",
    "       .query('count > 100') \\\n",
    "       .sort_values('mean') \\\n",
    "       .tail(10) \\\n",
    "       .plot(kind='bar', y='mean', legend=False, \n",
    "             rot=0, figsize=(14,4),\n",
    "             title='Average Distance per Destination')"
   ]
  },
  {
   "cell_type": "code",
   "execution_count": null,
   "metadata": {},
   "outputs": [],
   "source": [
    "fs = flights.reset_index(drop=True)[['DIST', 'AIR_TIME']].query('DIST <= 2000').dropna()\n",
    "fs.plot(x='DIST', y='AIR_TIME', kind='scatter', s=1, figsize=(16,4))"
   ]
  },
  {
   "cell_type": "code",
   "execution_count": null,
   "metadata": {},
   "outputs": [],
   "source": [
    "fs['DIST_GROUP'] = pd.cut(fs['DIST'], bins=range(0, 2001, 250))\n",
    "fs['DIST_GROUP'].value_counts().sort_index()"
   ]
  },
  {
   "cell_type": "code",
   "execution_count": null,
   "metadata": {},
   "outputs": [],
   "source": [
    "normalize = lambda x: (x - x.mean()) / x.std()\n",
    "fs['TIME_SCORE'] = fs.groupby('DIST_GROUP')['AIR_TIME'] \\\n",
    "                     .transform(normalize)\n",
    "\n",
    "fs.head()"
   ]
  },
  {
   "cell_type": "code",
   "execution_count": null,
   "metadata": {},
   "outputs": [],
   "source": [
    "ax = fs.boxplot(by='DIST_GROUP', column='TIME_SCORE', figsize=(16,4))\n",
    "ax.set_title('Z-Scores for Distance Groups')\n",
    "ax.figure.suptitle('')"
   ]
  },
  {
   "cell_type": "code",
   "execution_count": null,
   "metadata": {},
   "outputs": [],
   "source": [
    "outliers = flights.iloc[fs[fs['TIME_SCORE'] > 6].index]\n",
    "outliers = outliers[['AIRLINE','ORG_AIR', 'DEST_AIR', 'AIR_TIME', \n",
    "                     'DIST', 'ARR_DELAY', 'DIVERTED']]\n",
    "outliers['PLOT_NUM'] = range(1, len(outliers) + 1)\n",
    "outliers"
   ]
  },
  {
   "cell_type": "code",
   "execution_count": null,
   "metadata": {},
   "outputs": [],
   "source": [
    "ax = fs.plot(x='DIST', y='AIR_TIME', \n",
    "             kind='scatter', s=1, \n",
    "             figsize=(16,4), table=outliers)\n",
    "outliers.plot(x='DIST', y='AIR_TIME',\n",
    "              kind='scatter', s=25, ax=ax, grid=True)\n",
    "\n",
    "outs = outliers[['AIR_TIME', 'DIST', 'PLOT_NUM']]\n",
    "for t, d, n  in outs.itertuples(index=False):\n",
    "    ax.text(d + 5, t + 5, str(n))\n",
    "    \n",
    "plt.setp(ax.get_xticklabels(), y=.1)\n",
    "plt.setp(ax.get_xticklines(), visible=False)\n",
    "ax.set_xlabel('')\n",
    "ax.set_title('Flight Time vs Distance with Outliers')"
   ]
  },
  {
   "cell_type": "markdown",
   "metadata": {},
   "source": [
    "## There's more..."
   ]
  },
  {
   "cell_type": "markdown",
   "metadata": {},
   "source": [
    "# Stacking area charts to discover emerging trends"
   ]
  },
  {
   "cell_type": "code",
   "execution_count": null,
   "metadata": {},
   "outputs": [],
   "source": [
    "meetup = pd.read_csv('data/meetup_groups.csv', \n",
    "                     parse_dates=['join_date'], \n",
    "                     index_col='join_date')\n",
    "meetup.head()"
   ]
  },
  {
   "cell_type": "code",
   "execution_count": null,
   "metadata": {},
   "outputs": [],
   "source": [
    "group_count = meetup.groupby([pd.Grouper(freq='W'), 'group']).size()\n",
    "group_count.head()"
   ]
  },
  {
   "cell_type": "code",
   "execution_count": null,
   "metadata": {},
   "outputs": [],
   "source": [
    "gc2 = group_count.unstack('group', fill_value=0)\n",
    "gc2.tail()"
   ]
  },
  {
   "cell_type": "code",
   "execution_count": null,
   "metadata": {},
   "outputs": [],
   "source": [
    "group_total = gc2.cumsum()\n",
    "group_total.tail()"
   ]
  },
  {
   "cell_type": "code",
   "execution_count": null,
   "metadata": {},
   "outputs": [],
   "source": [
    "row_total = group_total.sum(axis='columns')\n",
    "group_cum_pct = group_total.div(row_total, axis='index')\n",
    "group_cum_pct.tail()"
   ]
  },
  {
   "cell_type": "code",
   "execution_count": null,
   "metadata": {},
   "outputs": [],
   "source": [
    "ax = group_cum_pct.plot(kind='area', figsize=(18,4),\n",
    "                        cmap='Greys', xlim=('2013-6', None), \n",
    "                        ylim=(0, 1), legend=False)\n",
    "ax.figure.suptitle('Houston Meetup Groups', size=25)\n",
    "ax.set_xlabel('')\n",
    "ax.yaxis.tick_right()\n",
    "\n",
    "plot_kwargs = dict(xycoords='axes fraction', size=15)\n",
    "ax.annotate(xy=(.1, .7), s='R Users', color='w', **plot_kwargs)\n",
    "ax.annotate(xy=(.25, .16), s='Data Visualization', color='k', **plot_kwargs)\n",
    "ax.annotate(xy=(.5, .55), s='Energy Data Science', color='k', **plot_kwargs)\n",
    "ax.annotate(xy=(.83, .07), s='Data Science', color='k', **plot_kwargs)\n",
    "ax.annotate(xy=(.86, .78), s='Machine Learning', color='w', **plot_kwargs)"
   ]
  },
  {
   "cell_type": "markdown",
   "metadata": {},
   "source": [
    "## There's more..."
   ]
  },
  {
   "cell_type": "code",
   "execution_count": null,
   "metadata": {},
   "outputs": [],
   "source": [
    "pie_data = group_cum_pct.asfreq('3MS', method='bfill') \\\n",
    "                        .tail(6).to_period('M').T\n",
    "pie_data"
   ]
  },
  {
   "cell_type": "code",
   "execution_count": null,
   "metadata": {},
   "outputs": [],
   "source": [
    "from matplotlib.cm import Greys\n",
    "greys = Greys(np.arange(50,250,40))\n",
    "\n",
    "ax_array = pie_data.plot(kind='pie', subplots=True, \n",
    "                         layout=(2,3), labels=None,\n",
    "                         autopct='%1.0f%%', pctdistance=1.22,\n",
    "                         colors=greys)\n",
    "ax1 = ax_array[0, 0]\n",
    "ax1.figure.legend(ax1.patches, pie_data.index, ncol=3)\n",
    "for ax in ax_array.flatten():\n",
    "    ax.xaxis.label.set_visible(True)\n",
    "    ax.set_xlabel(ax.get_ylabel())\n",
    "    ax.set_ylabel('')\n",
    "ax1.figure.subplots_adjust(hspace=.3)"
   ]
  },
  {
   "cell_type": "markdown",
   "metadata": {},
   "source": [
    "# Understanding the differences between seaborn and pandas"
   ]
  },
  {
   "cell_type": "markdown",
   "metadata": {},
   "source": [
    "## Getting ready..."
   ]
  },
  {
   "cell_type": "code",
   "execution_count": null,
   "metadata": {},
   "outputs": [],
   "source": [
    "employee = pd.read_csv('data/employee.csv', \n",
    "                       parse_dates=['HIRE_DATE', 'JOB_DATE'])\n",
    "employee.head()"
   ]
  },
  {
   "cell_type": "code",
   "execution_count": null,
   "metadata": {},
   "outputs": [],
   "source": [
    "import seaborn as sns"
   ]
  },
  {
   "cell_type": "code",
   "execution_count": null,
   "metadata": {},
   "outputs": [],
   "source": [
    "sns.countplot(y='DEPARTMENT', data=employee)"
   ]
  },
  {
   "cell_type": "code",
   "execution_count": null,
   "metadata": {},
   "outputs": [],
   "source": [
    "employee['DEPARTMENT'].value_counts().plot('barh')"
   ]
  },
  {
   "cell_type": "code",
   "execution_count": null,
   "metadata": {},
   "outputs": [],
   "source": [
    "ax = sns.barplot(x='RACE', y='BASE_SALARY', data=employee)\n",
    "ax.figure.set_size_inches(16, 4)"
   ]
  },
  {
   "cell_type": "code",
   "execution_count": null,
   "metadata": {},
   "outputs": [],
   "source": [
    "avg_sal = employee.groupby('RACE', sort=False)['BASE_SALARY'].mean()\n",
    "ax = avg_sal.plot(kind='bar', rot=0, figsize=(16,4), width=.8)\n",
    "ax.set_xlim(-.5, 5.5)\n",
    "ax.set_ylabel('Mean Salary')"
   ]
  },
  {
   "cell_type": "code",
   "execution_count": null,
   "metadata": {},
   "outputs": [],
   "source": [
    "ax = sns.barplot(x='RACE', y='BASE_SALARY', hue='GENDER', \n",
    "                 data=employee, palette='Greys')\n",
    "ax.figure.set_size_inches(16,4)"
   ]
  },
  {
   "cell_type": "code",
   "execution_count": null,
   "metadata": {},
   "outputs": [],
   "source": [
    "employee.groupby(['RACE', 'GENDER'], sort=False)['BASE_SALARY'] \\\n",
    "        .mean().unstack('GENDER') \\\n",
    "        .plot(kind='bar', figsize=(16,4), rot=0,\n",
    "              width=.8, cmap='Greys')"
   ]
  },
  {
   "cell_type": "code",
   "execution_count": null,
   "metadata": {},
   "outputs": [],
   "source": [
    "ax = sns.boxplot(x='GENDER', y='BASE_SALARY', data=employee, hue='RACE', palette='Greys')\n",
    "ax.figure.set_size_inches(14,4)"
   ]
  },
  {
   "cell_type": "code",
   "execution_count": null,
   "metadata": {},
   "outputs": [],
   "source": [
    "fig, ax_array = plt.subplots(1, 2, figsize=(14,4), sharey=True)\n",
    "for g, ax in zip(['Female', 'Male'], ax_array):\n",
    "    employee.query('GENDER== @g') \\\n",
    "            .boxplot(by='RACE', column='BASE_SALARY', ax=ax, rot=20)\n",
    "    ax.set_title(g + ' Salary')\n",
    "    ax.set_xlabel('')\n",
    "fig.suptitle('')"
   ]
  },
  {
   "cell_type": "code",
   "execution_count": null,
   "metadata": {},
   "outputs": [],
   "source": [
    "ax = employee.boxplot(by=['GENDER', 'RACE'], \n",
    "                      column='BASE_SALARY', \n",
    "                      figsize=(16,4), rot=15)\n",
    "ax.figure.suptitle('')"
   ]
  },
  {
   "cell_type": "markdown",
   "metadata": {},
   "source": [
    "# Doing multivariate analysis with seaborn grids"
   ]
  },
  {
   "cell_type": "code",
   "execution_count": null,
   "metadata": {},
   "outputs": [],
   "source": [
    "employee = pd.read_csv('data/employee.csv', \n",
    "                       parse_dates=['HIRE_DATE', 'JOB_DATE'])\n",
    "days_hired = (pd.to_datetime('12-1-2016') - employee['HIRE_DATE'])\n",
    "\n",
    "one_year = pd.Timedelta(1, unit='Y')\n",
    "employee['YEARS_EXPERIENCE'] =  days_hired / one_year\n",
    "employee[['HIRE_DATE', 'YEARS_EXPERIENCE']].head()"
   ]
  },
  {
   "cell_type": "code",
   "execution_count": null,
   "metadata": {},
   "outputs": [],
   "source": [
    "import seaborn as sns"
   ]
  },
  {
   "cell_type": "code",
   "execution_count": null,
   "metadata": {},
   "outputs": [],
   "source": [
    "ax = sns.regplot(x='YEARS_EXPERIENCE', y='BASE_SALARY',\n",
    "                 data=employee)\n",
    "ax.figure.set_size_inches(14,4)"
   ]
  },
  {
   "cell_type": "code",
   "execution_count": null,
   "metadata": {},
   "outputs": [],
   "source": [
    "grid = sns.lmplot(x='YEARS_EXPERIENCE', y='BASE_SALARY',\n",
    "                  hue='GENDER', palette='Greys',\n",
    "                  scatter_kws={'s':10}, data=employee)\n",
    "grid.fig.set_size_inches(14, 4)\n",
    "type(grid)"
   ]
  },
  {
   "cell_type": "code",
   "execution_count": null,
   "metadata": {},
   "outputs": [],
   "source": [
    "grid = sns.lmplot(x='YEARS_EXPERIENCE', y='BASE_SALARY',\n",
    "                  hue='GENDER', col='RACE', col_wrap=3,\n",
    "                  palette='Greys', sharex=False,\n",
    "                  line_kws = {'linewidth':5},\n",
    "                  data=employee)\n",
    "grid.set(ylim=(20000, 120000))"
   ]
  },
  {
   "cell_type": "code",
   "execution_count": null,
   "metadata": {},
   "outputs": [],
   "source": [
    "deps = employee['DEPARTMENT'].value_counts().index[:2]\n",
    "races = employee['RACE'].value_counts().index[:3]\n",
    "is_dep = employee['DEPARTMENT'].isin(deps)\n",
    "is_race = employee['RACE'].isin(races)\n",
    "emp2 = employee[is_dep & is_race].copy()\n",
    "emp2['DEPARTMENT'] = emp2.DEPARTMENT.str.extract('(HPD|HFD)', expand=True)\n",
    "emp2.shape"
   ]
  },
  {
   "cell_type": "code",
   "execution_count": null,
   "metadata": {},
   "outputs": [],
   "source": [
    "emp2['DEPARTMENT'].value_counts()"
   ]
  },
  {
   "cell_type": "code",
   "execution_count": null,
   "metadata": {},
   "outputs": [],
   "source": [
    "emp2['RACE'].value_counts()"
   ]
  },
  {
   "cell_type": "code",
   "execution_count": null,
   "metadata": {},
   "outputs": [],
   "source": [
    "ax = sns.violinplot(x = 'YEARS_EXPERIENCE', y='GENDER', data=emp2)\n",
    "ax.figure.set_size_inches(10,4)"
   ]
  },
  {
   "cell_type": "code",
   "execution_count": null,
   "metadata": {},
   "outputs": [],
   "source": [
    "sns.factorplot(x ='YEARS_EXPERIENCE', y='GENDER',\n",
    "               col='RACE', row='DEPARTMENT', \n",
    "               size=3, aspect=2,\n",
    "               data=emp2, kind='violin')"
   ]
  },
  {
   "cell_type": "markdown",
   "metadata": {},
   "source": [
    "# Uncovering Simpson's paradox in the diamonds dataset with seaborn"
   ]
  },
  {
   "cell_type": "code",
   "execution_count": null,
   "metadata": {},
   "outputs": [],
   "source": [
    "pd.DataFrame(index=['Student A', 'Student B'], \n",
    "             data={'Raw Score': ['50/100', '80/100'], \n",
    "                   'Percent Correct':[50,80]}, columns=['Raw Score', 'Percent Correct'])"
   ]
  },
  {
   "cell_type": "code",
   "execution_count": null,
   "metadata": {},
   "outputs": [],
   "source": [
    "pd.DataFrame(index=['Student A', 'Student B'], \n",
    "             data={'Difficult': ['45/95', '2/5'], \n",
    "                   'Easy': ['5/5', '78/95'],\n",
    "                   'Difficult Percent': [47, 40],\n",
    "                   'Easy Percent' : [100, 82],\n",
    "                  'Total Percent':[50, 80]}, \n",
    "             columns=['Difficult', 'Easy', 'Difficult Percent', 'Easy Percent', 'Total Percent'])"
   ]
  },
  {
   "cell_type": "code",
   "execution_count": null,
   "metadata": {},
   "outputs": [],
   "source": [
    "diamonds = pd.read_csv('data/diamonds.csv')\n",
    "diamonds.head()"
   ]
  },
  {
   "cell_type": "code",
   "execution_count": null,
   "metadata": {},
   "outputs": [],
   "source": [
    "cut_cats = ['Fair', 'Good', 'Very Good', 'Premium', 'Ideal']\n",
    "color_cats = ['J', 'I', 'H', 'G', 'F', 'E', 'D']\n",
    "clarity_cats = ['I1', 'SI2', 'SI1', 'VS2', 'VS1', 'VVS2', 'VVS1', 'IF']\n",
    "diamonds['cut'] = pd.Categorical(diamonds['cut'],\n",
    "                                 categories=cut_cats, \n",
    "                                 ordered=True)\n",
    "\n",
    "diamonds['color'] = pd.Categorical(diamonds['color'],\n",
    "                                   categories=color_cats, \n",
    "                                   ordered=True)\n",
    "\n",
    "diamonds['clarity'] = pd.Categorical(diamonds['clarity'],\n",
    "                                     categories=clarity_cats, \n",
    "                                     ordered=True)"
   ]
  },
  {
   "cell_type": "code",
   "execution_count": null,
   "metadata": {},
   "outputs": [],
   "source": [
    "fig, (ax1, ax2, ax3) = plt.subplots(1, 3, figsize=(14,4))\n",
    "sns.barplot(x='color', y='price', data=diamonds, ax=ax1)\n",
    "sns.barplot(x='cut', y='price', data=diamonds, ax=ax2)\n",
    "sns.barplot(x='clarity', y='price', data=diamonds, ax=ax3)\n",
    "fig.suptitle('Price Decreasing with Increasing Quality?')"
   ]
  },
  {
   "cell_type": "code",
   "execution_count": null,
   "metadata": {},
   "outputs": [],
   "source": [
    "sns.factorplot(x='color', y='price', col='clarity',\n",
    "               col_wrap=4, data=diamonds, kind='bar')"
   ]
  },
  {
   "cell_type": "code",
   "execution_count": null,
   "metadata": {},
   "outputs": [],
   "source": [
    "sns.factorplot(x='color', y='carat', col='clarity',\n",
    "               col_wrap=4, data=diamonds, kind='bar')"
   ]
  },
  {
   "cell_type": "code",
   "execution_count": null,
   "metadata": {},
   "outputs": [],
   "source": [
    "fig, (ax1, ax2, ax3) = plt.subplots(1, 3, figsize=(14,4))\n",
    "sns.barplot(x='color', y='carat', data=diamonds, ax=ax1)\n",
    "sns.barplot(x='cut', y='carat', data=diamonds, ax=ax2)\n",
    "sns.barplot(x='clarity', y='carat', data=diamonds, ax=ax3)\n",
    "fig.suptitle('Diamond size decreases with quality')"
   ]
  },
  {
   "cell_type": "code",
   "execution_count": null,
   "metadata": {},
   "outputs": [],
   "source": [
    "diamonds['carat_category'] = pd.qcut(diamonds.carat, 5)\n",
    "\n",
    "from matplotlib.cm import Greys\n",
    "greys = Greys(np.arange(50,250,40))\n",
    "\n",
    "g = sns.factorplot(x='clarity', y='price', data=diamonds,\n",
    "                   hue='carat_category', col='color', \n",
    "                   col_wrap=4, kind='point') #, palette=greys)\n",
    "g.fig.suptitle('Diamond price by size, color and clarity',\n",
    "               y=1.02, size=20)"
   ]
  },
  {
   "cell_type": "markdown",
   "metadata": {},
   "source": [
    "## There's more..."
   ]
  },
  {
   "cell_type": "code",
   "execution_count": null,
   "metadata": {},
   "outputs": [],
   "source": [
    "g = sns.PairGrid(diamonds,size=5,\n",
    "                 x_vars=[\"color\", \"cut\", \"clarity\"],\n",
    "                 y_vars=[\"price\"])\n",
    "g.map(sns.barplot)\n",
    "g.fig.suptitle('Replication of Step 3 with PairGrid', y=1.02)"
   ]
  },
  {
   "cell_type": "code",
   "execution_count": null,
   "metadata": {},
   "outputs": [],
   "source": []
  }
 ],
 "metadata": {
  "kernelspec": {
   "display_name": "Python 3",
   "language": "python",
   "name": "python3"
  },
  "language_info": {
   "codemirror_mode": {
    "name": "ipython",
    "version": 3
   },
   "file_extension": ".py",
   "mimetype": "text/x-python",
   "name": "python",
   "nbconvert_exporter": "python",
   "pygments_lexer": "ipython3",
   "version": "3.7.3"
  }
 },
 "nbformat": 4,
 "nbformat_minor": 2
}
