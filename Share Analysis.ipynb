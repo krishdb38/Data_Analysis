{
 "cells": [
  {
   "cell_type": "markdown",
   "metadata": {},
   "source": [
    "** Share Market**"
   ]
  },
  {
   "cell_type": "code",
   "execution_count": 3,
   "metadata": {},
   "outputs": [],
   "source": [
    "import pandas as pd\n",
    "import pandas_datareader.data as web\n",
    "import matplotlib.pyplot as plt"
   ]
  },
  {
   "cell_type": "code",
   "execution_count": 4,
   "metadata": {},
   "outputs": [],
   "source": [
    "gs=web.DataReader(\"078930.KS\",\"yahoo\") #078930 for gs cod\n",
    "#gs=web.DataReader(\"078930.KS\",\"yahoo\",\"2014-01-01\",\"2019-10-01\")#Last 2 parameters are for start and end date"
   ]
  },
  {
   "cell_type": "code",
   "execution_count": 5,
   "metadata": {},
   "outputs": [
    {
     "data": {
      "text/html": [
       "<div>\n",
       "<style scoped>\n",
       "    .dataframe tbody tr th:only-of-type {\n",
       "        vertical-align: middle;\n",
       "    }\n",
       "\n",
       "    .dataframe tbody tr th {\n",
       "        vertical-align: top;\n",
       "    }\n",
       "\n",
       "    .dataframe thead th {\n",
       "        text-align: right;\n",
       "    }\n",
       "</style>\n",
       "<table border=\"1\" class=\"dataframe\">\n",
       "  <thead>\n",
       "    <tr style=\"text-align: right;\">\n",
       "      <th></th>\n",
       "      <th>High</th>\n",
       "      <th>Low</th>\n",
       "      <th>Open</th>\n",
       "      <th>Close</th>\n",
       "      <th>Volume</th>\n",
       "      <th>Adj Close</th>\n",
       "    </tr>\n",
       "    <tr>\n",
       "      <th>Date</th>\n",
       "      <th></th>\n",
       "      <th></th>\n",
       "      <th></th>\n",
       "      <th></th>\n",
       "      <th></th>\n",
       "      <th></th>\n",
       "    </tr>\n",
       "  </thead>\n",
       "  <tbody>\n",
       "    <tr>\n",
       "      <th>2014-10-20</th>\n",
       "      <td>40950.0</td>\n",
       "      <td>40200.0</td>\n",
       "      <td>40600.0</td>\n",
       "      <td>40500.0</td>\n",
       "      <td>285362.0</td>\n",
       "      <td>34647.792969</td>\n",
       "    </tr>\n",
       "    <tr>\n",
       "      <th>2014-10-21</th>\n",
       "      <td>40700.0</td>\n",
       "      <td>39950.0</td>\n",
       "      <td>40400.0</td>\n",
       "      <td>40450.0</td>\n",
       "      <td>187692.0</td>\n",
       "      <td>34605.019531</td>\n",
       "    </tr>\n",
       "    <tr>\n",
       "      <th>2014-10-22</th>\n",
       "      <td>41600.0</td>\n",
       "      <td>40500.0</td>\n",
       "      <td>40800.0</td>\n",
       "      <td>41000.0</td>\n",
       "      <td>384933.0</td>\n",
       "      <td>35075.550781</td>\n",
       "    </tr>\n",
       "    <tr>\n",
       "      <th>2014-10-23</th>\n",
       "      <td>41500.0</td>\n",
       "      <td>40400.0</td>\n",
       "      <td>40550.0</td>\n",
       "      <td>41050.0</td>\n",
       "      <td>304475.0</td>\n",
       "      <td>35118.320312</td>\n",
       "    </tr>\n",
       "    <tr>\n",
       "      <th>2014-10-24</th>\n",
       "      <td>41750.0</td>\n",
       "      <td>40650.0</td>\n",
       "      <td>41500.0</td>\n",
       "      <td>41000.0</td>\n",
       "      <td>254279.0</td>\n",
       "      <td>35075.550781</td>\n",
       "    </tr>\n",
       "  </tbody>\n",
       "</table>\n",
       "</div>"
      ],
      "text/plain": [
       "               High      Low     Open    Close    Volume     Adj Close\n",
       "Date                                                                  \n",
       "2014-10-20  40950.0  40200.0  40600.0  40500.0  285362.0  34647.792969\n",
       "2014-10-21  40700.0  39950.0  40400.0  40450.0  187692.0  34605.019531\n",
       "2014-10-22  41600.0  40500.0  40800.0  41000.0  384933.0  35075.550781\n",
       "2014-10-23  41500.0  40400.0  40550.0  41050.0  304475.0  35118.320312\n",
       "2014-10-24  41750.0  40650.0  41500.0  41000.0  254279.0  35075.550781"
      ]
     },
     "execution_count": 5,
     "metadata": {},
     "output_type": "execute_result"
    }
   ],
   "source": [
    "gs.head()"
   ]
  },
  {
   "cell_type": "code",
   "execution_count": 5,
   "metadata": {},
   "outputs": [
    {
     "data": {
      "text/html": [
       "<div>\n",
       "<style scoped>\n",
       "    .dataframe tbody tr th:only-of-type {\n",
       "        vertical-align: middle;\n",
       "    }\n",
       "\n",
       "    .dataframe tbody tr th {\n",
       "        vertical-align: top;\n",
       "    }\n",
       "\n",
       "    .dataframe thead th {\n",
       "        text-align: right;\n",
       "    }\n",
       "</style>\n",
       "<table border=\"1\" class=\"dataframe\">\n",
       "  <thead>\n",
       "    <tr style=\"text-align: right;\">\n",
       "      <th></th>\n",
       "      <th>High</th>\n",
       "      <th>Low</th>\n",
       "      <th>Open</th>\n",
       "      <th>Close</th>\n",
       "      <th>Volume</th>\n",
       "      <th>Adj Close</th>\n",
       "    </tr>\n",
       "  </thead>\n",
       "  <tbody>\n",
       "    <tr>\n",
       "      <th>count</th>\n",
       "      <td>1157.000000</td>\n",
       "      <td>1157.000000</td>\n",
       "      <td>1157.000000</td>\n",
       "      <td>1157.000000</td>\n",
       "      <td>1.157000e+03</td>\n",
       "      <td>1157.000000</td>\n",
       "    </tr>\n",
       "    <tr>\n",
       "      <th>mean</th>\n",
       "      <td>54055.358686</td>\n",
       "      <td>52760.976664</td>\n",
       "      <td>53409.939499</td>\n",
       "      <td>53460.155575</td>\n",
       "      <td>2.029947e+05</td>\n",
       "      <td>49649.421740</td>\n",
       "    </tr>\n",
       "    <tr>\n",
       "      <th>std</th>\n",
       "      <td>8018.431772</td>\n",
       "      <td>7830.490081</td>\n",
       "      <td>7932.942119</td>\n",
       "      <td>7950.439759</td>\n",
       "      <td>1.056348e+05</td>\n",
       "      <td>8430.370383</td>\n",
       "    </tr>\n",
       "    <tr>\n",
       "      <th>min</th>\n",
       "      <td>38150.000000</td>\n",
       "      <td>37200.000000</td>\n",
       "      <td>37950.000000</td>\n",
       "      <td>37700.000000</td>\n",
       "      <td>0.000000e+00</td>\n",
       "      <td>33213.953125</td>\n",
       "    </tr>\n",
       "    <tr>\n",
       "      <th>25%</th>\n",
       "      <td>49650.000000</td>\n",
       "      <td>48350.000000</td>\n",
       "      <td>49100.000000</td>\n",
       "      <td>49000.000000</td>\n",
       "      <td>1.355950e+05</td>\n",
       "      <td>44138.437500</td>\n",
       "    </tr>\n",
       "    <tr>\n",
       "      <th>50%</th>\n",
       "      <td>52400.000000</td>\n",
       "      <td>51200.000000</td>\n",
       "      <td>51700.000000</td>\n",
       "      <td>51800.000000</td>\n",
       "      <td>1.766570e+05</td>\n",
       "      <td>49488.847656</td>\n",
       "    </tr>\n",
       "    <tr>\n",
       "      <th>75%</th>\n",
       "      <td>58400.000000</td>\n",
       "      <td>57300.000000</td>\n",
       "      <td>57900.000000</td>\n",
       "      <td>58000.000000</td>\n",
       "      <td>2.458110e+05</td>\n",
       "      <td>53821.527344</td>\n",
       "    </tr>\n",
       "    <tr>\n",
       "      <th>max</th>\n",
       "      <td>77600.000000</td>\n",
       "      <td>74900.000000</td>\n",
       "      <td>76200.000000</td>\n",
       "      <td>76700.000000</td>\n",
       "      <td>1.283642e+06</td>\n",
       "      <td>71717.906250</td>\n",
       "    </tr>\n",
       "  </tbody>\n",
       "</table>\n",
       "</div>"
      ],
      "text/plain": [
       "               High           Low          Open         Close        Volume  \\\n",
       "count   1157.000000   1157.000000   1157.000000   1157.000000  1.157000e+03   \n",
       "mean   54055.358686  52760.976664  53409.939499  53460.155575  2.029947e+05   \n",
       "std     8018.431772   7830.490081   7932.942119   7950.439759  1.056348e+05   \n",
       "min    38150.000000  37200.000000  37950.000000  37700.000000  0.000000e+00   \n",
       "25%    49650.000000  48350.000000  49100.000000  49000.000000  1.355950e+05   \n",
       "50%    52400.000000  51200.000000  51700.000000  51800.000000  1.766570e+05   \n",
       "75%    58400.000000  57300.000000  57900.000000  58000.000000  2.458110e+05   \n",
       "max    77600.000000  74900.000000  76200.000000  76700.000000  1.283642e+06   \n",
       "\n",
       "          Adj Close  \n",
       "count   1157.000000  \n",
       "mean   49649.421740  \n",
       "std     8430.370383  \n",
       "min    33213.953125  \n",
       "25%    44138.437500  \n",
       "50%    49488.847656  \n",
       "75%    53821.527344  \n",
       "max    71717.906250  "
      ]
     },
     "execution_count": 5,
     "metadata": {},
     "output_type": "execute_result"
    }
   ],
   "source": [
    "gs.describe()"
   ]
  },
  {
   "cell_type": "code",
   "execution_count": 7,
   "metadata": {},
   "outputs": [
    {
     "data": {
      "image/png": "[encoded data removed]",
      "text/plain": [
       "<Figure size 1080x576 with 1 Axes>"
      ]
     },
     "metadata": {
      "needs_background": "light"
     },
     "output_type": "display_data"
    }
   ],
   "source": [
    "plt.figure(figsize=[15,8])\n",
    "plt.plot(gs[\"Adj Close\"],\"r\")\n",
    "plt.title(\"Adjustment Price \")\n",
    "plt.ylabel(\"Price\")\n",
    "plt.xlabel(\"Date\")\n",
    "#plt.savefig(\"bar.png\") #This will save in to png format \n",
    "plt.show()"
   ]
  },
  {
   "cell_type": "code",
   "execution_count": 13,
   "metadata": {},
   "outputs": [],
   "source": [
    "#greater_one=gs[\"Volume\"]>1 #Only return True or False\n",
    "greater_one=gs[gs[\"Volume\"]>1]   #Return values greater than 1"
   ]
  },
  {
   "cell_type": "code",
   "execution_count": 15,
   "metadata": {},
   "outputs": [
    {
     "data": {
      "text/html": [
       "<div>\n",
       "<style scoped>\n",
       "    .dataframe tbody tr th:only-of-type {\n",
       "        vertical-align: middle;\n",
       "    }\n",
       "\n",
       "    .dataframe tbody tr th {\n",
       "        vertical-align: top;\n",
       "    }\n",
       "\n",
       "    .dataframe thead th {\n",
       "        text-align: right;\n",
       "    }\n",
       "</style>\n",
       "<table border=\"1\" class=\"dataframe\">\n",
       "  <thead>\n",
       "    <tr style=\"text-align: right;\">\n",
       "      <th></th>\n",
       "      <th>High</th>\n",
       "      <th>Low</th>\n",
       "      <th>Open</th>\n",
       "      <th>Close</th>\n",
       "      <th>Volume</th>\n",
       "      <th>Adj Close</th>\n",
       "    </tr>\n",
       "    <tr>\n",
       "      <th>Date</th>\n",
       "      <th></th>\n",
       "      <th></th>\n",
       "      <th></th>\n",
       "      <th></th>\n",
       "      <th></th>\n",
       "      <th></th>\n",
       "    </tr>\n",
       "  </thead>\n",
       "  <tbody>\n",
       "    <tr>\n",
       "      <th>2014-10-20</th>\n",
       "      <td>40950.0</td>\n",
       "      <td>40200.0</td>\n",
       "      <td>40600.0</td>\n",
       "      <td>40500.0</td>\n",
       "      <td>285362.0</td>\n",
       "      <td>34647.792969</td>\n",
       "    </tr>\n",
       "    <tr>\n",
       "      <th>2014-10-21</th>\n",
       "      <td>40700.0</td>\n",
       "      <td>39950.0</td>\n",
       "      <td>40400.0</td>\n",
       "      <td>40450.0</td>\n",
       "      <td>187692.0</td>\n",
       "      <td>34605.019531</td>\n",
       "    </tr>\n",
       "    <tr>\n",
       "      <th>2014-10-22</th>\n",
       "      <td>41600.0</td>\n",
       "      <td>40500.0</td>\n",
       "      <td>40800.0</td>\n",
       "      <td>41000.0</td>\n",
       "      <td>384933.0</td>\n",
       "      <td>35075.550781</td>\n",
       "    </tr>\n",
       "    <tr>\n",
       "      <th>2014-10-23</th>\n",
       "      <td>41500.0</td>\n",
       "      <td>40400.0</td>\n",
       "      <td>40550.0</td>\n",
       "      <td>41050.0</td>\n",
       "      <td>304475.0</td>\n",
       "      <td>35118.320312</td>\n",
       "    </tr>\n",
       "    <tr>\n",
       "      <th>2014-10-24</th>\n",
       "      <td>41750.0</td>\n",
       "      <td>40650.0</td>\n",
       "      <td>41500.0</td>\n",
       "      <td>41000.0</td>\n",
       "      <td>254279.0</td>\n",
       "      <td>35075.550781</td>\n",
       "    </tr>\n",
       "  </tbody>\n",
       "</table>\n",
       "</div>"
      ],
      "text/plain": [
       "               High      Low     Open    Close    Volume     Adj Close\n",
       "Date                                                                  \n",
       "2014-10-20  40950.0  40200.0  40600.0  40500.0  285362.0  34647.792969\n",
       "2014-10-21  40700.0  39950.0  40400.0  40450.0  187692.0  34605.019531\n",
       "2014-10-22  41600.0  40500.0  40800.0  41000.0  384933.0  35075.550781\n",
       "2014-10-23  41500.0  40400.0  40550.0  41050.0  304475.0  35118.320312\n",
       "2014-10-24  41750.0  40650.0  41500.0  41000.0  254279.0  35075.550781"
      ]
     },
     "execution_count": 15,
     "metadata": {},
     "output_type": "execute_result"
    }
   ],
   "source": [
    "greater_one.head()"
   ]
  },
  {
   "cell_type": "code",
   "execution_count": 20,
   "metadata": {},
   "outputs": [
    {
     "data": {
      "image/png": "[encoded data removed]",
      "text/plain": [
       "<Figure size 432x288 with 1 Axes>"
      ]
     },
     "metadata": {
      "needs_background": "light"
     },
     "output_type": "display_data"
    }
   ],
   "source": [
    "plt.plot(greater_one[\"High\"],greater_one[\"Low\"],\"r\")\n",
    "plt.show()"
   ]
  }
 ],
 "metadata": {
  "kernelspec": {
   "display_name": "Python 3",
   "language": "python",
   "name": "python3"
  },
  "language_info": {
   "codemirror_mode": {
    "name": "ipython",
    "version": 3
   },
   "file_extension": ".py",
   "mimetype": "text/x-python",
   "name": "python",
   "nbconvert_exporter": "python",
   "pygments_lexer": "ipython3",
   "version": "3.7.3"
  }
 },
 "nbformat": 4,
 "nbformat_minor": 2
}
