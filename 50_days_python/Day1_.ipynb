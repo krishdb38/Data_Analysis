{
 "cells": [
  {
   "cell_type": "code",
   "execution_count": null,
   "id": "183f4161",
   "metadata": {},
   "outputs": [],
   "source": [
    "# Write a function called divide_or_square that takes one\n",
    "# argument (a number), and returns the square root of the number\n",
    "# if it is divisible by 5, returns its remainder if it is not divisible by\n",
    "# 5. For example, if you pass 10 as an argument, then your function\n",
    "# should return 3.16 as the square root."
   ]
  },
  {
   "cell_type": "code",
   "execution_count": 1,
   "id": "d3835248",
   "metadata": {},
   "outputs": [],
   "source": [
    "import math"
   ]
  },
  {
   "cell_type": "code",
   "execution_count": 7,
   "id": "99b62944",
   "metadata": {},
   "outputs": [],
   "source": [
    "def divide_or_square(number):\n",
    "        return math.sqrt(number) if number % 5 == 0 else number % 5\n",
    "\n",
    "# sqrt = number ** 0.5"
   ]
  },
  {
   "cell_type": "code",
   "execution_count": 10,
   "id": "eb56beaa",
   "metadata": {},
   "outputs": [
    {
     "data": {
      "text/plain": [
       "1"
      ]
     },
     "execution_count": 10,
     "metadata": {},
     "output_type": "execute_result"
    }
   ],
   "source": [
    "divide_or_square(11)"
   ]
  },
  {
   "cell_type": "markdown",
   "id": "1a6f6617",
   "metadata": {},
   "source": [
    "## Extra Challenge Longest Value"
   ]
  },
  {
   "cell_type": "code",
   "execution_count": null,
   "id": "0a293e95",
   "metadata": {},
   "outputs": [],
   "source": [
    "# Write a function called longest_value that takes a dictionary\n",
    "# as an argument and returns the first longest value of the\n",
    "# dictionary. For example, the following dictionary should return\n",
    "# – apple as the longest value\n",
    "# fruits = {'fruit': 'apple', 'color': 'green'}"
   ]
  },
  {
   "cell_type": "code",
   "execution_count": 26,
   "id": "569daab4",
   "metadata": {},
   "outputs": [
    {
     "name": "stdout",
     "output_type": "stream",
     "text": [
      "apple\n",
      "green\n"
     ]
    }
   ],
   "source": [
    "fruits = {'fruit': 'apple', 'color': 'green'}\n",
    "max_length = 0\n",
    "for value in fruits.values():\n",
    "    length = len(value)\n",
    "    \n",
    "    if length > max_length:\n",
    "        temp_value = value\n",
    "        if \n",
    "    print(value)\n",
    "    "
   ]
  },
  {
   "cell_type": "code",
   "execution_count": null,
   "id": "a8068941",
   "metadata": {},
   "outputs": [],
   "source": []
  }
 ],
 "metadata": {
  "kernelspec": {
   "display_name": "Python 3 (ipykernel)",
   "language": "python",
   "name": "python3"
  },
  "language_info": {
   "codemirror_mode": {
    "name": "ipython",
    "version": 3
   },
   "file_extension": ".py",
   "mimetype": "text/x-python",
   "name": "python",
   "nbconvert_exporter": "python",
   "pygments_lexer": "ipython3",
   "version": "3.9.12"
  }
 },
 "nbformat": 4,
 "nbformat_minor": 5
}
